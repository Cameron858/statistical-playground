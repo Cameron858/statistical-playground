{
 "cells": [
  {
   "cell_type": "code",
   "execution_count": 1,
   "id": "8876b478-454d-43b2-ad13-46fbd459f529",
   "metadata": {},
   "outputs": [],
   "source": [
    "from sklearn import datasets\n",
    "from scipy.stats import ttest_ind, levene\n",
    "import matplotlib.pyplot as plt\n",
    "import scipy.stats as stats"
   ]
  },
  {
   "cell_type": "markdown",
   "id": "13e3d4b5-6fa9-481e-9754-59a395b90acb",
   "metadata": {},
   "source": [
    "## One tailed t-test\n",
    "\n",
    "We will use `diabetes` for an example. The target is a \"quantitative measure of disease progression one year after baseline\" We will examine if there is a difference in the target based of off `sex`."
   ]
  },
  {
   "cell_type": "code",
   "execution_count": 2,
   "id": "ff52559a-64a5-4d2b-813a-11ebfebc5060",
   "metadata": {
    "scrolled": true
   },
   "outputs": [
    {
     "data": {
      "text/html": [
       "<div>\n",
       "<style scoped>\n",
       "    .dataframe tbody tr th:only-of-type {\n",
       "        vertical-align: middle;\n",
       "    }\n",
       "\n",
       "    .dataframe tbody tr th {\n",
       "        vertical-align: top;\n",
       "    }\n",
       "\n",
       "    .dataframe thead th {\n",
       "        text-align: right;\n",
       "    }\n",
       "</style>\n",
       "<table border=\"1\" class=\"dataframe\">\n",
       "  <thead>\n",
       "    <tr style=\"text-align: right;\">\n",
       "      <th></th>\n",
       "      <th>age</th>\n",
       "      <th>sex</th>\n",
       "      <th>bmi</th>\n",
       "      <th>bp</th>\n",
       "      <th>s1</th>\n",
       "      <th>s2</th>\n",
       "      <th>s3</th>\n",
       "      <th>s4</th>\n",
       "      <th>s5</th>\n",
       "      <th>s6</th>\n",
       "      <th>target</th>\n",
       "    </tr>\n",
       "  </thead>\n",
       "  <tbody>\n",
       "    <tr>\n",
       "      <th>0</th>\n",
       "      <td>59.0</td>\n",
       "      <td>2.0</td>\n",
       "      <td>32.1</td>\n",
       "      <td>101.0</td>\n",
       "      <td>157.0</td>\n",
       "      <td>93.2</td>\n",
       "      <td>38.0</td>\n",
       "      <td>4.0</td>\n",
       "      <td>4.8598</td>\n",
       "      <td>87.0</td>\n",
       "      <td>151.0</td>\n",
       "    </tr>\n",
       "    <tr>\n",
       "      <th>1</th>\n",
       "      <td>48.0</td>\n",
       "      <td>1.0</td>\n",
       "      <td>21.6</td>\n",
       "      <td>87.0</td>\n",
       "      <td>183.0</td>\n",
       "      <td>103.2</td>\n",
       "      <td>70.0</td>\n",
       "      <td>3.0</td>\n",
       "      <td>3.8918</td>\n",
       "      <td>69.0</td>\n",
       "      <td>75.0</td>\n",
       "    </tr>\n",
       "    <tr>\n",
       "      <th>2</th>\n",
       "      <td>72.0</td>\n",
       "      <td>2.0</td>\n",
       "      <td>30.5</td>\n",
       "      <td>93.0</td>\n",
       "      <td>156.0</td>\n",
       "      <td>93.6</td>\n",
       "      <td>41.0</td>\n",
       "      <td>4.0</td>\n",
       "      <td>4.6728</td>\n",
       "      <td>85.0</td>\n",
       "      <td>141.0</td>\n",
       "    </tr>\n",
       "    <tr>\n",
       "      <th>3</th>\n",
       "      <td>24.0</td>\n",
       "      <td>1.0</td>\n",
       "      <td>25.3</td>\n",
       "      <td>84.0</td>\n",
       "      <td>198.0</td>\n",
       "      <td>131.4</td>\n",
       "      <td>40.0</td>\n",
       "      <td>5.0</td>\n",
       "      <td>4.8903</td>\n",
       "      <td>89.0</td>\n",
       "      <td>206.0</td>\n",
       "    </tr>\n",
       "    <tr>\n",
       "      <th>4</th>\n",
       "      <td>50.0</td>\n",
       "      <td>1.0</td>\n",
       "      <td>23.0</td>\n",
       "      <td>101.0</td>\n",
       "      <td>192.0</td>\n",
       "      <td>125.4</td>\n",
       "      <td>52.0</td>\n",
       "      <td>4.0</td>\n",
       "      <td>4.2905</td>\n",
       "      <td>80.0</td>\n",
       "      <td>135.0</td>\n",
       "    </tr>\n",
       "  </tbody>\n",
       "</table>\n",
       "</div>"
      ],
      "text/plain": [
       "    age  sex   bmi     bp     s1     s2    s3   s4      s5    s6  target\n",
       "0  59.0  2.0  32.1  101.0  157.0   93.2  38.0  4.0  4.8598  87.0   151.0\n",
       "1  48.0  1.0  21.6   87.0  183.0  103.2  70.0  3.0  3.8918  69.0    75.0\n",
       "2  72.0  2.0  30.5   93.0  156.0   93.6  41.0  4.0  4.6728  85.0   141.0\n",
       "3  24.0  1.0  25.3   84.0  198.0  131.4  40.0  5.0  4.8903  89.0   206.0\n",
       "4  50.0  1.0  23.0  101.0  192.0  125.4  52.0  4.0  4.2905  80.0   135.0"
      ]
     },
     "execution_count": 2,
     "metadata": {},
     "output_type": "execute_result"
    }
   ],
   "source": [
    "dataset = datasets.load_diabetes(as_frame=True, scaled=False)\n",
    "df = dataset.frame\n",
    "df.head()"
   ]
  },
  {
   "cell_type": "markdown",
   "id": "372ebd0f-f1d5-4b43-bb7a-8423943bfe6e",
   "metadata": {},
   "source": [
    "Let's create a boxplot to show the difference in the target by `sex`."
   ]
  },
  {
   "cell_type": "code",
   "execution_count": 3,
   "id": "7ce016ea-e7e8-4910-a10b-8edbb3d44d95",
   "metadata": {},
   "outputs": [
    {
     "data": {
      "text/plain": [
       "<Axes: title={'center': 'target'}, xlabel='sex'>"
      ]
     },
     "execution_count": 3,
     "metadata": {},
     "output_type": "execute_result"
    },
    {
     "data": {
      "image/png": "[encoded data removed]",
      "text/plain": [
       "<Figure size 640x480 with 1 Axes>"
      ]
     },
     "metadata": {},
     "output_type": "display_data"
    }
   ],
   "source": [
    "df.boxplot(column=\"target\", by=\"sex\")"
   ]
  },
  {
   "cell_type": "markdown",
   "id": "b9af2be9-bdb3-466d-a8fe-b3ade0cd57b8",
   "metadata": {},
   "source": [
    "Both boxes are very similar, however the box for sex `1` looks like it has slightly lower values (As seen by Q1 and Q3). "
   ]
  },
  {
   "cell_type": "markdown",
   "id": "1211f2c6-61cf-4342-aa21-f9e4b9875eaf",
   "metadata": {},
   "source": [
    "Out of curisoity, let's see some simple stats for each `sex` value."
   ]
  },
  {
   "cell_type": "code",
   "execution_count": 4,
   "id": "77a48ddf-2a26-42c6-82dd-d845f7d37c35",
   "metadata": {},
   "outputs": [
    {
     "data": {
      "text/html": [
       "<div>\n",
       "<style scoped>\n",
       "    .dataframe tbody tr th:only-of-type {\n",
       "        vertical-align: middle;\n",
       "    }\n",
       "\n",
       "    .dataframe tbody tr th {\n",
       "        vertical-align: top;\n",
       "    }\n",
       "\n",
       "    .dataframe thead th {\n",
       "        text-align: right;\n",
       "    }\n",
       "</style>\n",
       "<table border=\"1\" class=\"dataframe\">\n",
       "  <thead>\n",
       "    <tr style=\"text-align: right;\">\n",
       "      <th></th>\n",
       "      <th>count</th>\n",
       "      <th>mean</th>\n",
       "      <th>std</th>\n",
       "      <th>min</th>\n",
       "      <th>25%</th>\n",
       "      <th>50%</th>\n",
       "      <th>75%</th>\n",
       "      <th>max</th>\n",
       "    </tr>\n",
       "    <tr>\n",
       "      <th>sex</th>\n",
       "      <th></th>\n",
       "      <th></th>\n",
       "      <th></th>\n",
       "      <th></th>\n",
       "      <th></th>\n",
       "      <th></th>\n",
       "      <th></th>\n",
       "      <th></th>\n",
       "    </tr>\n",
       "  </thead>\n",
       "  <tbody>\n",
       "    <tr>\n",
       "      <th>1.0</th>\n",
       "      <td>235.0</td>\n",
       "      <td>149.021277</td>\n",
       "      <td>75.905781</td>\n",
       "      <td>25.0</td>\n",
       "      <td>85.5</td>\n",
       "      <td>140.0</td>\n",
       "      <td>200.0</td>\n",
       "      <td>346.0</td>\n",
       "    </tr>\n",
       "    <tr>\n",
       "      <th>2.0</th>\n",
       "      <td>207.0</td>\n",
       "      <td>155.666667</td>\n",
       "      <td>78.453313</td>\n",
       "      <td>39.0</td>\n",
       "      <td>88.0</td>\n",
       "      <td>141.0</td>\n",
       "      <td>220.5</td>\n",
       "      <td>341.0</td>\n",
       "    </tr>\n",
       "  </tbody>\n",
       "</table>\n",
       "</div>"
      ],
      "text/plain": [
       "     count        mean        std   min   25%    50%    75%    max\n",
       "sex                                                               \n",
       "1.0  235.0  149.021277  75.905781  25.0  85.5  140.0  200.0  346.0\n",
       "2.0  207.0  155.666667  78.453313  39.0  88.0  141.0  220.5  341.0"
      ]
     },
     "execution_count": 4,
     "metadata": {},
     "output_type": "execute_result"
    }
   ],
   "source": [
    "df.groupby(\"sex\")[\"target\"].describe()"
   ]
  },
  {
   "cell_type": "markdown",
   "id": "f5064c7c-bb67-4b31-a0b3-c84a0a9033a8",
   "metadata": {},
   "source": [
    "The table above does show that the mean for sex `1` is slightly lower than sex `0`. This raises, the question, is this difference statistically significant?"
   ]
  },
  {
   "cell_type": "markdown",
   "id": "09ecec71-998d-4d83-a89a-ca8f32b62109",
   "metadata": {},
   "source": [
    "We now have two groups, in which we want to check that the mean in one is **strictly lower** than the mean in the other. This is a perfect scenario for using a **one tailed t-test** to verify this. We can formulate the above problem thus:\n",
    "\n",
    "**Hypotheses**\n",
    "- $ H_0: \\mu_1 \\geq \\mu_2 $ (Group 1 has the same or higher average `target` value)\n",
    "- $ H_a: \\mu_1 < \\mu_2 $ (Group 1 has a lower average `target` value)\n",
    "\n",
    "We shall use an alpha value of 0.05 to determine significance, as it represents a 5% risk of concluding that a difference exists when there is none (Type I error). This is a commonly accepted threshold in hypothesis testing\n",
    "\n",
    "$$ alpha = 0.05 $$"
   ]
  },
  {
   "cell_type": "markdown",
   "id": "285adff5-fbad-4ff6-bbd3-1367de3de50d",
   "metadata": {},
   "source": [
    "Create the groups for each `sex` value."
   ]
  },
  {
   "cell_type": "code",
   "execution_count": 5,
   "id": "aab42a87-27de-4193-af61-d7fcebc42c02",
   "metadata": {},
   "outputs": [],
   "source": [
    "group_1 = df[df[\"sex\"] == 1][\"target\"]\n",
    "group_2 = df[df[\"sex\"] == 2][\"target\"]"
   ]
  },
  {
   "cell_type": "markdown",
   "id": "7abb6589-1c10-4617-a112-46631684cba9",
   "metadata": {},
   "source": [
    "Before we perform the hypothesis testing, it is important to highlight some key assumptions:\n",
    "1. **Independence**\n",
    "    - Observations must be independant of one another. This assumption is reasonably satisfied with this dataset as each observation represents a unique individual. \n",
    "3. **Normality**\n",
    "    - The target values within each group (`target` column in case) should be approximately normally distributed. Since each group contains 200+ observations (as seen above), the *Central Limit Theorem* suggests that the sampling distribution of the mean will be approximately normal, even if the underlying data is not perfectly normal.\n",
    "5. **Homoscedacity**\n",
    "    - Both groups have a similar variance."
   ]
  },
  {
   "cell_type": "markdown",
   "id": "3e47a4d6-460b-4616-bb25-b7719a3f6e6d",
   "metadata": {},
   "source": [
    "### Validating Assumptions\n",
    "\n",
    "For completeness, the above assumptions will be tested."
   ]
  },
  {
   "cell_type": "markdown",
   "id": "51b11245-bdc7-4d71-891e-6e183294f0cb",
   "metadata": {},
   "source": [
    "#### Independence\n",
    "\n",
    "As stated above, this assumption is reasonably satisfied."
   ]
  },
  {
   "cell_type": "markdown",
   "id": "ef5f3880-a4c7-49ac-be22-442603495b58",
   "metadata": {},
   "source": [
    "#### Normality\n",
    "\n",
    "There are many methods of validating the normality of groups. For this example, we shall use a **Q-Q plot** (quantile-quantile plot). A Q-Q plot compares the quantiles of the sample data against the quantiles of a standard normal distribution. If the data is normally distributed, the points will approximately lie on a straight 45 degree line.\n",
    "\n",
    "Interpretation:\n",
    "- Points on the line -> data follows a normal distribution\n",
    "- Points curving away at the ends -> heavy tails (kurtosis) or skew\n",
    "- Systematic upward or downward bends -> skewness (left or right)"
   ]
  },
  {
   "cell_type": "code",
   "execution_count": 6,
   "id": "fda20930-a22a-408c-a7a2-ae066ad886b0",
   "metadata": {},
   "outputs": [
    {
     "data": {
      "image/png": "[encoded data removed]",
      "text/plain": [
       "<Figure size 1000x400 with 2 Axes>"
      ]
     },
     "metadata": {},
     "output_type": "display_data"
    }
   ],
   "source": [
    "fig, axs = plt.subplots(1, 2, figsize=(10, 4))\n",
    "stats.probplot(group_1, dist=\"norm\", plot=axs[0])\n",
    "axs[0].set_title(\"Q-Q Plot: Sex 1\")\n",
    "\n",
    "stats.probplot(group_2, dist=\"norm\", plot=axs[1])\n",
    "axs[1].set_title(\"Q-Q Plot: Sex 2\")\n",
    "plt.tight_layout()\n",
    "plt.show()"
   ]
  },
  {
   "cell_type": "markdown",
   "id": "7ce77c5b-e6a6-4ec2-8e76-c15d782083c9",
   "metadata": {},
   "source": [
    "Normality Observations:\n",
    "\n",
    "- In general, the data points follow the straight 45 degree line, indicating approximate normality.\n",
    "- Towards the lower end (~ -3), the points curve upwards away from the line. However, since this pattern is subtle and consistent across both groups, it likely does not meaningfully violate the normality assumption—especially considering the sample size and the robustness of the t-test.\n",
    "\n",
    "Ideally, we would like to see a closer adherence to the 45 degree line throughout. However, for the purpose of this example, we can accept that the normality assumption is reasonably met."
   ]
  },
  {
   "cell_type": "markdown",
   "id": "15513d52-64fe-468b-a95d-0e10e9cb7ce2",
   "metadata": {},
   "source": [
    "#### Homoscedacity\n",
    "\n",
    "Homoscedacity can be tested via visual inspection, or using statistical tests. We shall perform one of each:\n",
    "1. Boxplot inspection\n",
    "2. Levene test"
   ]
  },
  {
   "cell_type": "markdown",
   "id": "86a740d9-c07a-4fb2-8866-ba498727ff3c",
   "metadata": {},
   "source": [
    "**Boxplot Inspection**\n",
    "  \n",
    "Firstly, we return to the boxplot plotted previously to perform a visual inspection of the variance between the groups."
   ]
  },
  {
   "cell_type": "code",
   "execution_count": 7,
   "id": "af0d1851-d1b5-40d9-b94d-67fc81636dd1",
   "metadata": {},
   "outputs": [
    {
     "data": {
      "text/plain": [
       "<Axes: title={'center': 'target'}, xlabel='sex'>"
      ]
     },
     "execution_count": 7,
     "metadata": {},
     "output_type": "execute_result"
    },
    {
     "data": {
      "image/png": "[encoded data removed]",
      "text/plain": [
       "<Figure size 640x480 with 1 Axes>"
      ]
     },
     "metadata": {},
     "output_type": "display_data"
    }
   ],
   "source": [
    "df.boxplot(column=\"target\", by=\"sex\")"
   ]
  },
  {
   "cell_type": "markdown",
   "id": "4c50d99d-320b-4d94-90e1-457289c13f39",
   "metadata": {},
   "source": [
    "Boxplot Observations:\n",
    "- The IQR for sex `1` is slightly smaller than for sex `2`, indicating a somewhat tighter concentration of middle 50% values in sex `1`.\n",
    "- The range represented by the whiskers for sex `1` is slightly larger than sex `2`, suggesting that while the core data spread is tighter, the overall spread (including potential outliers) is wider."
   ]
  },
  {
   "cell_type": "markdown",
   "id": "c8a55518-3195-4fe6-a712-d360899a7c1a",
   "metadata": {},
   "source": [
    "**Levene's Test**\n",
    "\n",
    "The Levene test tests the null hypothesis that all samples are from populations with equal variance."
   ]
  },
  {
   "cell_type": "code",
   "execution_count": 8,
   "id": "a47a9f88-8465-4e3c-aa57-c90fe631aeb7",
   "metadata": {},
   "outputs": [
    {
     "name": "stdout",
     "output_type": "stream",
     "text": [
      "Levene's test statistic: 0.6426\n",
      "p-value: 0.4232\n"
     ]
    }
   ],
   "source": [
    "levene_stat, levene_p_stat = levene(group_1, group_2)\n",
    "print(f\"Levene's test statistic: {levene_stat:.4f}\")\n",
    "print(f\"p-value: {levene_p_stat:.4f}\")"
   ]
  },
  {
   "cell_type": "markdown",
   "id": "bfb2c482-6612-4b91-bf44-b5c48a9f8f1a",
   "metadata": {},
   "source": [
    "Levene's Observations:\n",
    "- A Levene’s test statistic value of 0.6426 indicates that the variance differences between the groups are small relative to the variability within each group. This suggests the groups have similar variances.\n",
    "- A p-value of 0.4232 is larger than our alpha of 0.05, so we fail to reject the null hypothesis of equal variances."
   ]
  },
  {
   "cell_type": "markdown",
   "id": "59b55a46-138b-4052-8070-db166f81238c",
   "metadata": {},
   "source": [
    "#### Validating Assumptions - Conclusion\n",
    "\n",
    "Considering the above results, all key assumptions have been reasonably met: independence, normality (supported by the Q-Q plots), and homoscedasticity (confirmed by boxplot inspection and Levene’s test). This supports the validity of the test conclusions."
   ]
  },
  {
   "cell_type": "markdown",
   "id": "37c7c869-6b1f-4bb0-9353-497744b90cf6",
   "metadata": {},
   "source": [
    "### Hypothesis Testing"
   ]
  },
  {
   "cell_type": "markdown",
   "id": "7b0f7523-b136-4211-9925-6a4c882a570e",
   "metadata": {},
   "source": [
    "We shall now use `scipy` to perform a two-tailed t-test. Scipy's `ttest_ind` returns two values:\n",
    "1. `t-statistic`: How far the sample means are, relative to the variability in the data (larger = more significance)\n",
    "2. `pvalue`: Probability in oberserving a difference at least as large as the one seen in the data"
   ]
  },
  {
   "cell_type": "code",
   "execution_count": 9,
   "id": "04248808-09f9-4dcf-9b10-b78954063e2a",
   "metadata": {},
   "outputs": [],
   "source": [
    "# equal_var=False performs Welch's t-test which is more robust to different population variances \n",
    "t_stat, p_two_tailed = ttest_ind(group_2, group_1, equal_var=False)"
   ]
  },
  {
   "cell_type": "markdown",
   "id": "84b503c0-e8a1-4170-b8b3-0ea38b638716",
   "metadata": {},
   "source": [
    "As we want to perform a one-tailed t-test, we need to divide the `p` value by two."
   ]
  },
  {
   "cell_type": "code",
   "execution_count": 10,
   "id": "3138ecf7-c668-4b45-a321-f9fdb53e12db",
   "metadata": {},
   "outputs": [],
   "source": [
    "if t_stat > 0:\n",
    "    # t in the expected direction (group1 < group2)\n",
    "    p_one_tailed = p_two_tailed / 2\n",
    "else:\n",
    "    p_one_tailed = 1 - (p_two_tailed / 2)"
   ]
  },
  {
   "cell_type": "markdown",
   "id": "78ed7ecb-d11e-44b7-b7c7-237ccba00b46",
   "metadata": {},
   "source": [
    "We can now examine the results:"
   ]
  },
  {
   "cell_type": "code",
   "execution_count": 11,
   "id": "b857ca1a-44ea-4ec0-a07e-b89e8b75a9f5",
   "metadata": {},
   "outputs": [
    {
     "name": "stdout",
     "output_type": "stream",
     "text": [
      "t-statistic: 0.9022\n",
      "One-tailed p-value: 0.1837\n"
     ]
    }
   ],
   "source": [
    "print(f\"t-statistic: {t_stat:.4f}\")\n",
    "print(f\"One-tailed p-value: {p_one_tailed:.4f}\")"
   ]
  },
  {
   "cell_type": "markdown",
   "id": "2617ffa1-57d4-4c28-84c6-7ae243f58ae7",
   "metadata": {},
   "source": [
    "Considering the above results:\n",
    "- A *t-statistic* value of 0.9022 suggests that the groups means are less than 1 standard error apart. This is not strong evidence that there is a difference.\n",
    "- A *p-value* of 0.1837 is larger than our alpha of 0.05\n",
    "\n",
    "In conclusion, based off of the above one-tailed t-test we **fail** to reject the **null** hypothesis as there is insignificant evidence to conclude that a sex of `1` results in a lower `target` value than a sex of `2`."
   ]
  },
  {
   "cell_type": "markdown",
   "id": "e5fc67d5-362f-42cc-889b-65317f89e571",
   "metadata": {},
   "source": [
    "## Two-tailed t-test\n",
    "\n",
    "We will use the `breast_cancer` dataset for an example. The target is a whether or not a tumor is cancerous. We will examine if there is a difference in the target based of off `mean radius`. More formally:\n",
    "- Do malignant and benign turmors differ in mean radius?\n",
    "\n",
    "In reality, we might reasonably expect malignant tumors to have a larger mean radius than benign ones, based on prior clinical knowledge. However, for the purpose of demonstrating a two-tailed t-test, we proceed as if we had no prior directional hypothesis, and simply test whether there is any difference in mean radius between the two groups."
   ]
  },
  {
   "cell_type": "code",
   "execution_count": 18,
   "id": "185196b8-b32b-4b12-8223-fd05051d1c58",
   "metadata": {},
   "outputs": [
    {
     "data": {
      "text/html": [
       "<div>\n",
       "<style scoped>\n",
       "    .dataframe tbody tr th:only-of-type {\n",
       "        vertical-align: middle;\n",
       "    }\n",
       "\n",
       "    .dataframe tbody tr th {\n",
       "        vertical-align: top;\n",
       "    }\n",
       "\n",
       "    .dataframe thead th {\n",
       "        text-align: right;\n",
       "    }\n",
       "</style>\n",
       "<table border=\"1\" class=\"dataframe\">\n",
       "  <thead>\n",
       "    <tr style=\"text-align: right;\">\n",
       "      <th></th>\n",
       "      <th>mean radius</th>\n",
       "      <th>mean texture</th>\n",
       "      <th>mean perimeter</th>\n",
       "      <th>mean area</th>\n",
       "      <th>mean smoothness</th>\n",
       "      <th>mean compactness</th>\n",
       "      <th>mean concavity</th>\n",
       "      <th>mean concave points</th>\n",
       "      <th>mean symmetry</th>\n",
       "      <th>mean fractal dimension</th>\n",
       "      <th>...</th>\n",
       "      <th>worst texture</th>\n",
       "      <th>worst perimeter</th>\n",
       "      <th>worst area</th>\n",
       "      <th>worst smoothness</th>\n",
       "      <th>worst compactness</th>\n",
       "      <th>worst concavity</th>\n",
       "      <th>worst concave points</th>\n",
       "      <th>worst symmetry</th>\n",
       "      <th>worst fractal dimension</th>\n",
       "      <th>target</th>\n",
       "    </tr>\n",
       "  </thead>\n",
       "  <tbody>\n",
       "    <tr>\n",
       "      <th>0</th>\n",
       "      <td>17.99</td>\n",
       "      <td>10.38</td>\n",
       "      <td>122.80</td>\n",
       "      <td>1001.0</td>\n",
       "      <td>0.11840</td>\n",
       "      <td>0.27760</td>\n",
       "      <td>0.3001</td>\n",
       "      <td>0.14710</td>\n",
       "      <td>0.2419</td>\n",
       "      <td>0.07871</td>\n",
       "      <td>...</td>\n",
       "      <td>17.33</td>\n",
       "      <td>184.60</td>\n",
       "      <td>2019.0</td>\n",
       "      <td>0.1622</td>\n",
       "      <td>0.6656</td>\n",
       "      <td>0.7119</td>\n",
       "      <td>0.2654</td>\n",
       "      <td>0.4601</td>\n",
       "      <td>0.11890</td>\n",
       "      <td>0</td>\n",
       "    </tr>\n",
       "    <tr>\n",
       "      <th>1</th>\n",
       "      <td>20.57</td>\n",
       "      <td>17.77</td>\n",
       "      <td>132.90</td>\n",
       "      <td>1326.0</td>\n",
       "      <td>0.08474</td>\n",
       "      <td>0.07864</td>\n",
       "      <td>0.0869</td>\n",
       "      <td>0.07017</td>\n",
       "      <td>0.1812</td>\n",
       "      <td>0.05667</td>\n",
       "      <td>...</td>\n",
       "      <td>23.41</td>\n",
       "      <td>158.80</td>\n",
       "      <td>1956.0</td>\n",
       "      <td>0.1238</td>\n",
       "      <td>0.1866</td>\n",
       "      <td>0.2416</td>\n",
       "      <td>0.1860</td>\n",
       "      <td>0.2750</td>\n",
       "      <td>0.08902</td>\n",
       "      <td>0</td>\n",
       "    </tr>\n",
       "    <tr>\n",
       "      <th>2</th>\n",
       "      <td>19.69</td>\n",
       "      <td>21.25</td>\n",
       "      <td>130.00</td>\n",
       "      <td>1203.0</td>\n",
       "      <td>0.10960</td>\n",
       "      <td>0.15990</td>\n",
       "      <td>0.1974</td>\n",
       "      <td>0.12790</td>\n",
       "      <td>0.2069</td>\n",
       "      <td>0.05999</td>\n",
       "      <td>...</td>\n",
       "      <td>25.53</td>\n",
       "      <td>152.50</td>\n",
       "      <td>1709.0</td>\n",
       "      <td>0.1444</td>\n",
       "      <td>0.4245</td>\n",
       "      <td>0.4504</td>\n",
       "      <td>0.2430</td>\n",
       "      <td>0.3613</td>\n",
       "      <td>0.08758</td>\n",
       "      <td>0</td>\n",
       "    </tr>\n",
       "    <tr>\n",
       "      <th>3</th>\n",
       "      <td>11.42</td>\n",
       "      <td>20.38</td>\n",
       "      <td>77.58</td>\n",
       "      <td>386.1</td>\n",
       "      <td>0.14250</td>\n",
       "      <td>0.28390</td>\n",
       "      <td>0.2414</td>\n",
       "      <td>0.10520</td>\n",
       "      <td>0.2597</td>\n",
       "      <td>0.09744</td>\n",
       "      <td>...</td>\n",
       "      <td>26.50</td>\n",
       "      <td>98.87</td>\n",
       "      <td>567.7</td>\n",
       "      <td>0.2098</td>\n",
       "      <td>0.8663</td>\n",
       "      <td>0.6869</td>\n",
       "      <td>0.2575</td>\n",
       "      <td>0.6638</td>\n",
       "      <td>0.17300</td>\n",
       "      <td>0</td>\n",
       "    </tr>\n",
       "    <tr>\n",
       "      <th>4</th>\n",
       "      <td>20.29</td>\n",
       "      <td>14.34</td>\n",
       "      <td>135.10</td>\n",
       "      <td>1297.0</td>\n",
       "      <td>0.10030</td>\n",
       "      <td>0.13280</td>\n",
       "      <td>0.1980</td>\n",
       "      <td>0.10430</td>\n",
       "      <td>0.1809</td>\n",
       "      <td>0.05883</td>\n",
       "      <td>...</td>\n",
       "      <td>16.67</td>\n",
       "      <td>152.20</td>\n",
       "      <td>1575.0</td>\n",
       "      <td>0.1374</td>\n",
       "      <td>0.2050</td>\n",
       "      <td>0.4000</td>\n",
       "      <td>0.1625</td>\n",
       "      <td>0.2364</td>\n",
       "      <td>0.07678</td>\n",
       "      <td>0</td>\n",
       "    </tr>\n",
       "  </tbody>\n",
       "</table>\n",
       "<p>5 rows × 31 columns</p>\n",
       "</div>"
      ],
      "text/plain": [
       "   mean radius  mean texture  mean perimeter  mean area  mean smoothness  \\\n",
       "0        17.99         10.38          122.80     1001.0          0.11840   \n",
       "1        20.57         17.77          132.90     1326.0          0.08474   \n",
       "2        19.69         21.25          130.00     1203.0          0.10960   \n",
       "3        11.42         20.38           77.58      386.1          0.14250   \n",
       "4        20.29         14.34          135.10     1297.0          0.10030   \n",
       "\n",
       "   mean compactness  mean concavity  mean concave points  mean symmetry  \\\n",
       "0           0.27760          0.3001              0.14710         0.2419   \n",
       "1           0.07864          0.0869              0.07017         0.1812   \n",
       "2           0.15990          0.1974              0.12790         0.2069   \n",
       "3           0.28390          0.2414              0.10520         0.2597   \n",
       "4           0.13280          0.1980              0.10430         0.1809   \n",
       "\n",
       "   mean fractal dimension  ...  worst texture  worst perimeter  worst area  \\\n",
       "0                 0.07871  ...          17.33           184.60      2019.0   \n",
       "1                 0.05667  ...          23.41           158.80      1956.0   \n",
       "2                 0.05999  ...          25.53           152.50      1709.0   \n",
       "3                 0.09744  ...          26.50            98.87       567.7   \n",
       "4                 0.05883  ...          16.67           152.20      1575.0   \n",
       "\n",
       "   worst smoothness  worst compactness  worst concavity  worst concave points  \\\n",
       "0            0.1622             0.6656           0.7119                0.2654   \n",
       "1            0.1238             0.1866           0.2416                0.1860   \n",
       "2            0.1444             0.4245           0.4504                0.2430   \n",
       "3            0.2098             0.8663           0.6869                0.2575   \n",
       "4            0.1374             0.2050           0.4000                0.1625   \n",
       "\n",
       "   worst symmetry  worst fractal dimension  target  \n",
       "0          0.4601                  0.11890       0  \n",
       "1          0.2750                  0.08902       0  \n",
       "2          0.3613                  0.08758       0  \n",
       "3          0.6638                  0.17300       0  \n",
       "4          0.2364                  0.07678       0  \n",
       "\n",
       "[5 rows x 31 columns]"
      ]
     },
     "execution_count": 18,
     "metadata": {},
     "output_type": "execute_result"
    }
   ],
   "source": [
    "dataset = datasets.load_breast_cancer(as_frame=True)\n",
    "df = dataset.frame\n",
    "df.head()"
   ]
  },
  {
   "cell_type": "markdown",
   "id": "3525d13d-ea91-4ce3-87bc-c91e0183b20e",
   "metadata": {},
   "source": [
    "We can formulate the problem as thus:\n",
    "\n",
    "**Hypotheses**\n",
    "- $ H_0: \\mu_1 = \\mu_2 $ (Malignant and benign tumors have the same `mean radius`)\n",
    "- $ H_a: \\mu_1 \\neq \\mu_2 $ (The `mean radius` differs between malignant and benign tumors,)\n",
    "\n",
    "Again, we shall use an alpha value of 0.05 to determine significance.\n",
    "\n",
    "$$ alpha = 0.05 $$"
   ]
  },
  {
   "cell_type": "markdown",
   "id": "f2ee765a-e17b-4e10-a575-b09758d02c13",
   "metadata": {},
   "source": [
    "Create the test groups."
   ]
  },
  {
   "cell_type": "code",
   "execution_count": 23,
   "id": "ada1e499-b9e4-4aa6-b517-71ab2d2f1938",
   "metadata": {},
   "outputs": [],
   "source": [
    "group_0 = df[df[\"target\"] == 0][\"mean radius\"] # malignant\n",
    "group_1 = df[df[\"target\"] == 1][\"mean radius\"] # benign"
   ]
  },
  {
   "cell_type": "markdown",
   "id": "2960719b-0bb9-49dc-a503-30548d89009b",
   "metadata": {},
   "source": [
    "### Validating assumptions\n",
    "\n",
    "The two-tailed t-test has the same core assumptions as the one-tailed. Again, we shall attempt to validate each one."
   ]
  },
  {
   "cell_type": "markdown",
   "id": "0103d8ec-168f-4101-b969-ec2d36230fe0",
   "metadata": {},
   "source": [
    "#### Independence\n",
    "\n",
    "As stated above, this assumption is reasonably satisfied."
   ]
  },
  {
   "cell_type": "markdown",
   "id": "161b358e-0174-457d-a73d-6304b553eca7",
   "metadata": {},
   "source": [
    "#### Normality\n",
    "\n",
    "Plot the Q-Q plot for each group."
   ]
  },
  {
   "cell_type": "code",
   "execution_count": 25,
   "id": "43fe542e-fe8f-4bcb-80cf-600f82dcdf42",
   "metadata": {
    "scrolled": true
   },
   "outputs": [
    {
     "data": {
      "image/png": "[encoded data removed]",
      "text/plain": [
       "<Figure size 1000x400 with 2 Axes>"
      ]
     },
     "metadata": {},
     "output_type": "display_data"
    }
   ],
   "source": [
    "fig, axs = plt.subplots(1, 2, figsize=(10, 4))\n",
    "stats.probplot(group_0, dist=\"norm\", plot=axs[0])\n",
    "axs[0].set_title(\"Q-Q Plot: Malignant\")\n",
    "\n",
    "stats.probplot(group_1, dist=\"norm\", plot=axs[1])\n",
    "axs[1].set_title(\"Q-Q Benign\")\n",
    "plt.tight_layout()\n",
    "plt.show()"
   ]
  },
  {
   "cell_type": "markdown",
   "id": "d8c5d30e-8a0f-403b-82ba-5609b69afe18",
   "metadata": {},
   "source": [
    "Normality Observations:\n",
    "\n",
    "- In general, the data points closely follow the 45 degree reference line, indicating approximate normality for both groups.\n",
    "- This pattern is especially pronounced for the benign tumor group.\n",
    "- For the malignant tumor group, there is a slight deviation from the line at the ends, suggesting a mild departure from normality in the tails.\n",
    "\n",
    "Overall, the Q-Q plots suggest that the assumption of normality is reasonably satisfied for both groups, with only minor deviations that are unlikely to substantially impact the validity of the t-test."
   ]
  },
  {
   "cell_type": "markdown",
   "id": "107d45a9-c86e-41d9-9e02-29daa8246fc0",
   "metadata": {},
   "source": [
    "#### Homoscedacity\n",
    "\n",
    "The same tests will be performed again."
   ]
  },
  {
   "cell_type": "markdown",
   "id": "9fa52a2a-45aa-49e9-aeb9-a75f55cd0b51",
   "metadata": {},
   "source": [
    "**Boxplot inspection**"
   ]
  },
  {
   "cell_type": "code",
   "execution_count": 27,
   "id": "77b9537d-a95d-4ce5-8c94-7f8150d989df",
   "metadata": {},
   "outputs": [
    {
     "data": {
      "text/plain": [
       "<Axes: title={'center': 'mean radius'}, xlabel='target'>"
      ]
     },
     "execution_count": 27,
     "metadata": {},
     "output_type": "execute_result"
    },
    {
     "data": {
      "image/png": "[encoded data removed]",
      "text/plain": [
       "<Figure size 640x480 with 1 Axes>"
      ]
     },
     "metadata": {},
     "output_type": "display_data"
    }
   ],
   "source": [
    "df.boxplot(column=\"mean radius\", by=\"target\")"
   ]
  },
  {
   "cell_type": "markdown",
   "id": "f5445dc2-c938-498a-b5a1-dc3bda37d9bf",
   "metadata": {},
   "source": [
    "Boxplot observations:\n",
    "- The boxplots clearly show that the two groups have significantly different variances, with the benign tumors exhibiting a smaller spread in mean radius.\n",
    "- Malignant tumors (class 0) tend to have more outliers, which are generally larger than the group mean, indicating greater variability and occasional extreme values compared to benign tumors."
   ]
  },
  {
   "cell_type": "markdown",
   "id": "70af1103-402c-4f11-895a-5cc1ef235f6d",
   "metadata": {},
   "source": [
    "**Levene's test**"
   ]
  },
  {
   "cell_type": "code",
   "execution_count": 26,
   "id": "15074f58-11f3-4b14-a63b-4604ed0085e7",
   "metadata": {},
   "outputs": [
    {
     "name": "stdout",
     "output_type": "stream",
     "text": [
      "Levene's test statistic: 90.4771\n",
      "p-value: 0.0000\n"
     ]
    }
   ],
   "source": [
    "levene_stat, levene_p_stat = levene(group_0, group_1)\n",
    "print(f\"Levene's test statistic: {levene_stat:.4f}\")\n",
    "print(f\"p-value: {levene_p_stat:.4f}\")"
   ]
  },
  {
   "cell_type": "markdown",
   "id": "eba0c157-c061-4ef8-8620-82705322daa5",
   "metadata": {},
   "source": [
    "Levene's observations:\n",
    "- A Levene’s test statistic value of 90.48 indicates that the variance differences between the groups are large relative to the variability within each group. This suggests the groups have different variances.\n",
    "- A p-value of < 0.001 is much smaller than our alpha of 0.05, so we reject the null hypothesis of equal variances."
   ]
  },
  {
   "cell_type": "markdown",
   "id": "fd2068b2-a286-4169-b1ce-48c0a71ce5b3",
   "metadata": {},
   "source": [
    "#### Validating Assumptions - Conclusion\n",
    "\n",
    "Considering the above results, the assumptions of independence and normality were verified. However, the assumption of equal variances has been violated, as indicated by both the boxplot inspection and Levene’s test results. Going forward, we will use Welch’s t-test, which is robust to unequal variances, to compare the group means."
   ]
  },
  {
   "cell_type": "markdown",
   "id": "9a916947-c07c-4990-938b-db1ef4909724",
   "metadata": {},
   "source": [
    "### Hypothesis Testing\n",
    "\n",
    "We shall now perform the two-tailed t-test."
   ]
  },
  {
   "cell_type": "code",
   "execution_count": 28,
   "id": "e0aba356-dfcb-4646-817f-b6ff96940fb1",
   "metadata": {},
   "outputs": [
    {
     "name": "stdout",
     "output_type": "stream",
     "text": [
      "t-statistic: 26.3161\n",
      "One-tailed p-value: 0.0000\n"
     ]
    }
   ],
   "source": [
    "# equal_var=False performs Welch's t-test which is more robust to different population variances \n",
    "t_stat, p_two_tailed = ttest_ind(group_2, group_1, equal_var=False)\n",
    "\n",
    "print(f\"t-statistic: {t_stat:.4f}\")\n",
    "print(f\"One-tailed p-value: {p_two_tailed:.4f}\")"
   ]
  },
  {
   "cell_type": "markdown",
   "id": "ad6b2523-ccad-4f91-864f-508473bfe8ac",
   "metadata": {},
   "source": [
    "Considering the above results:\n",
    "- A *t-statistic* value of 26.3161 suggests that the groups means are very far apart. This is strong evidence that there is a difference.\n",
    "- A *p-value* of < 0.0001 is much less than our alpha of 0.05\n",
    "\n",
    "In conclusion, based off of the above two-tailed t-test we **reject** the **null** hypothesis as there is statistically significant evidence to conclude that the `mean radius` differs between malignant and benign tumors. "
   ]
  }
 ],
 "metadata": {
  "kernelspec": {
   "display_name": "Python 3 (ipykernel)",
   "language": "python",
   "name": "python3"
  },
  "language_info": {
   "codemirror_mode": {
    "name": "ipython",
    "version": 3
   },
   "file_extension": ".py",
   "mimetype": "text/x-python",
   "name": "python",
   "nbconvert_exporter": "python",
   "pygments_lexer": "ipython3",
   "version": "3.13.0"
  }
 },
 "nbformat": 4,
 "nbformat_minor": 5
}
