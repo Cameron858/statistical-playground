{
 "cells": [
  {
   "cell_type": "code",
   "execution_count": null,
   "id": "0",
   "metadata": {},
   "outputs": [],
   "source": [
    "import matplotlib.pyplot as plt\n",
    "import scipy.stats as stats\n",
    "from scipy.stats import probplot\n",
    "import numpy as np"
   ]
  },
  {
   "cell_type": "code",
   "execution_count": null,
   "id": "1",
   "metadata": {},
   "outputs": [],
   "source": [
    "np.random.seed(42)\n",
    "n_samples = 1000"
   ]
  },
  {
   "cell_type": "markdown",
   "id": "2",
   "metadata": {},
   "source": [
    "# Q-Q Plots\n",
    "\n",
    "This notebook is intended to provide intuition behind Q-Q plots **results**, by plotting various distributions against the `normal`."
   ]
  },
  {
   "cell_type": "code",
   "execution_count": null,
   "id": "3",
   "metadata": {},
   "outputs": [],
   "source": [
    "data_normal = np.random.normal(loc=0, scale=1, size=n_samples)"
   ]
  },
  {
   "cell_type": "markdown",
   "id": "4",
   "metadata": {},
   "source": [
    "### Normal"
   ]
  },
  {
   "cell_type": "code",
   "execution_count": null,
   "id": "5",
   "metadata": {},
   "outputs": [],
   "source": [
    "fig, ax = plt.subplots()\n",
    "_ = probplot(data_normal, dist=\"norm\", plot=ax)"
   ]
  },
  {
   "cell_type": "markdown",
   "id": "6",
   "metadata": {},
   "source": [
    "### Uniform"
   ]
  },
  {
   "cell_type": "code",
   "execution_count": null,
   "id": "7",
   "metadata": {},
   "outputs": [],
   "source": [
    "data_uniform = np.random.uniform(low=0, high=1, size=n_samples)\n",
    "\n",
    "fig, axs = plt.subplots(1, 2, figsize=(12, 5))\n",
    "\n",
    "probplot(data_uniform, dist=\"norm\", plot=axs[0])\n",
    "axs[0].set_title('Q-Q Plot: Uniform data vs Normal dist')\n",
    "\n",
    "x = np.linspace(-3, 3, 500)\n",
    "axs[1].plot(x, norm.pdf(x), label='Normal PDF')\n",
    "axs[1].plot(x, uniform.pdf(x, loc=0, scale=1), label='Uniform PDF')\n",
    "\n",
    "axs[1].set_title('PDFs: Normal and Uniform distributions')\n",
    "axs[1].legend()\n",
    "axs[1].grid(True)\n",
    "\n",
    "plt.tight_layout()\n",
    "plt.show()"
   ]
  },
  {
   "cell_type": "markdown",
   "id": "8",
   "metadata": {},
   "source": [
    "### Exponential"
   ]
  },
  {
   "cell_type": "code",
   "execution_count": null,
   "id": "9",
   "metadata": {},
   "outputs": [],
   "source": [
    "data_exponential = np.random.exponential(scale=1, size=n_samples)\n",
    "\n",
    "fig, axs = plt.subplots(1, 2, figsize=(12, 5))\n",
    "\n",
    "probplot(data_exponential, dist=\"norm\", plot=axs[0])\n",
    "axs[0].set_title('Q-Q Plot: Exponential data vs Normal dist')\n",
    "\n",
    "x = np.linspace(-3, 3, 500)\n",
    "axs[1].plot(x, stats.norm.pdf(x), label='Normal PDF')\n",
    "axs[1].plot(x, stats.expon.pdf(x, loc=0, scale=1), label='Exponential PDF')\n",
    "\n",
    "axs[1].set_title('PDFs: Normal and Exponential distributions')\n",
    "axs[1].legend()\n",
    "axs[1].grid(True)\n",
    "\n",
    "plt.tight_layout()\n",
    "plt.show()"
   ]
  },
  {
   "cell_type": "markdown",
   "id": "10",
   "metadata": {},
   "source": [
    "### Skewed"
   ]
  },
  {
   "cell_type": "code",
   "execution_count": null,
   "id": "11",
   "metadata": {},
   "outputs": [],
   "source": [
    "a = 5\n",
    "data_skewed = stats.skewnorm.rvs(a=a, size=n_samples)\n",
    "\n",
    "fig, axs = plt.subplots(1, 2, figsize=(12, 5))\n",
    "\n",
    "probplot(data_skewed, dist=\"norm\", plot=axs[0])\n",
    "axs[0].set_title(f'Q-Q Plot: Skewed data ({a=}) vs Normal dist')\n",
    "\n",
    "x = np.linspace(-3, 3, 500)\n",
    "axs[1].plot(x, norm.pdf(x), label='Normal PDF')\n",
    "axs[1].plot(x, stats.skewnorm.pdf(x, a), label=f'Skewed PDF ({a=})')\n",
    "\n",
    "axs[1].set_title('PDFs: Normal and Skewed distributions')\n",
    "axs[1].legend()\n",
    "axs[1].grid(True)\n",
    "\n",
    "plt.tight_layout()\n",
    "plt.show()"
   ]
  },
  {
   "cell_type": "code",
   "execution_count": null,
   "id": "12",
   "metadata": {},
   "outputs": [],
   "source": [
    "a = -5\n",
    "data_skewed = stats.skewnorm.rvs(a=a, size=n_samples)\n",
    "\n",
    "fig, axs = plt.subplots(1, 2, figsize=(12, 5))\n",
    "\n",
    "probplot(data_skewed, dist=\"norm\", plot=axs[0])\n",
    "axs[0].set_title(f'Q-Q Plot: Skewed data ({a=}) vs Normal dist')\n",
    "\n",
    "x = np.linspace(-3, 3, 500)\n",
    "axs[1].plot(x, norm.pdf(x), label='Normal PDF')\n",
    "axs[1].plot(x, stats.skewnorm.pdf(x, a), label=f'Skewed PDF ({a=})')\n",
    "\n",
    "axs[1].set_title('PDFs: Normal and Skewed distributions')\n",
    "axs[1].legend()\n",
    "axs[1].grid(True)\n",
    "\n",
    "plt.tight_layout()\n",
    "plt.show()"
   ]
  },
  {
   "cell_type": "markdown",
   "id": "13",
   "metadata": {},
   "source": [
    "### Bimodal"
   ]
  },
  {
   "cell_type": "code",
   "execution_count": null,
   "id": "14",
   "metadata": {},
   "outputs": [],
   "source": [
    "mu1, sigma1 = -2, 0.8\n",
    "data_component1 = np.random.normal(loc=mu1, scale=sigma1, size=int(n_samples * 0.5))\n",
    "mu2, sigma2 = 2, 0.8\n",
    "data_component2 = np.random.normal(loc=mu2, scale=sigma2, size=int(n_samples * 0.5))\n",
    "\n",
    "data_bimodal = np.concatenate((data_component1, data_component2))\n",
    "\n",
    "fig, axs = plt.subplots(1, 2, figsize=(12, 5))\n",
    "\n",
    "probplot(data_bimodal, dist=\"norm\", plot=axs[0])\n",
    "axs[0].set_title(f'Q-Q Plot: Bimodal data vs Normal dist')\n",
    "\n",
    "x = np.linspace(-3, 3, 500)\n",
    "axs[1].plot(x, norm.pdf(x), label='Norm PDF')\n",
    "bimodal_pdf_vals = 0.5 * stats.norm.pdf(x, loc=mu1, scale=sigma1) + \\\n",
    "                   0.5 * stats.norm.pdf(x, loc=mu2, scale=sigma2)\n",
    "axs[1].plot(x, bimodal_pdf_vals, label='Bimodal PDF (true)', color='blue')\n",
    "\n",
    "axs[1].set_title('PDFs: Bimodal and Skewed distributions')\n",
    "axs[1].legend()\n",
    "axs[1].grid(True)\n",
    "\n",
    "plt.tight_layout()\n",
    "plt.show()"
   ]
  },
  {
   "cell_type": "code",
   "execution_count": null,
   "id": "15",
   "metadata": {},
   "outputs": [],
   "source": [
    "mu1, sigma1 = -2, 0.5\n",
    "data_component1 = np.random.normal(loc=mu1, scale=sigma1, size=int(n_samples * 0.5))\n",
    "mu2, sigma2 = 2, 2\n",
    "data_component2 = np.random.normal(loc=mu2, scale=sigma2, size=int(n_samples * 0.5))\n",
    "\n",
    "data_bimodal = np.concatenate((data_component1, data_component2))\n",
    "\n",
    "fig, axs = plt.subplots(1, 2, figsize=(12, 5))\n",
    "\n",
    "probplot(data_bimodal, dist=\"norm\", plot=axs[0])\n",
    "axs[0].set_title(f'Q-Q Plot: Bimodal data vs Normal dist')\n",
    "\n",
    "x = np.linspace(-3, 3, 500)\n",
    "axs[1].plot(x, norm.pdf(x), label='Norm PDF')\n",
    "bimodal_pdf_vals = 0.5 * stats.norm.pdf(x, loc=mu1, scale=sigma1) + \\\n",
    "                   0.5 * stats.norm.pdf(x, loc=mu2, scale=sigma2)\n",
    "axs[1].plot(x, bimodal_pdf_vals, label='Bimodal PDF (true)', color='blue')\n",
    "\n",
    "axs[1].set_title('PDFs: Bimodal and Skewed distributions')\n",
    "axs[1].legend()\n",
    "axs[1].grid(True)\n",
    "\n",
    "plt.tight_layout()\n",
    "plt.show()"
   ]
  },
  {
   "cell_type": "code",
   "execution_count": null,
   "id": "16",
   "metadata": {},
   "outputs": [],
   "source": [
    "mu1, sigma1 = -2, 2\n",
    "data_component1 = np.random.normal(loc=mu1, scale=sigma1, size=int(n_samples * 0.5))\n",
    "mu2, sigma2 = 2, 0.5\n",
    "data_component2 = np.random.normal(loc=mu2, scale=sigma2, size=int(n_samples * 0.5))\n",
    "\n",
    "data_bimodal = np.concatenate((data_component1, data_component2))\n",
    "\n",
    "fig, axs = plt.subplots(1, 2, figsize=(12, 5))\n",
    "\n",
    "probplot(data_bimodal, dist=\"norm\", plot=axs[0])\n",
    "axs[0].set_title(f'Q-Q Plot: Bimodal data vs Normal dist')\n",
    "\n",
    "x = np.linspace(-3, 3, 500)\n",
    "axs[1].plot(x, norm.pdf(x), label='Norm PDF')\n",
    "bimodal_pdf_vals = 0.5 * stats.norm.pdf(x, loc=mu1, scale=sigma1) + \\\n",
    "                   0.5 * stats.norm.pdf(x, loc=mu2, scale=sigma2)\n",
    "axs[1].plot(x, bimodal_pdf_vals, label='Bimodal PDF (true)', color='blue')\n",
    "\n",
    "axs[1].set_title('PDFs: Bimodal and Skewed distributions')\n",
    "axs[1].legend()\n",
    "axs[1].grid(True)\n",
    "\n",
    "plt.tight_layout()\n",
    "plt.show()"
   ]
  }
 ],
 "metadata": {
  "kernelspec": {
   "display_name": "Python 3 (ipykernel)",
   "language": "python",
   "name": "python3"
  },
  "language_info": {
   "codemirror_mode": {
    "name": "ipython",
    "version": 3
   },
   "file_extension": ".py",
   "mimetype": "text/x-python",
   "name": "python",
   "nbconvert_exporter": "python",
   "pygments_lexer": "ipython3",
   "version": "3.13.0"
  }
 },
 "nbformat": 4,
 "nbformat_minor": 5
}
