{
 "cells": [
  {
   "cell_type": "code",
   "execution_count": 1,
   "id": "8876b478-454d-43b2-ad13-46fbd459f529",
   "metadata": {},
   "outputs": [],
   "source": [
    "from sklearn import datasets\n",
    "from scipy.stats import ttest_ind"
   ]
  },
  {
   "cell_type": "markdown",
   "id": "13e3d4b5-6fa9-481e-9754-59a395b90acb",
   "metadata": {},
   "source": [
    "## One tailed t-test\n",
    "\n",
    "We will use `diabetes` for an example. The target is a \"quantitative measure of disease progression one year after baseline\" We will examine if there is a difference in the target based of off `sex`."
   ]
  },
  {
   "cell_type": "code",
   "execution_count": 2,
   "id": "ff52559a-64a5-4d2b-813a-11ebfebc5060",
   "metadata": {
    "scrolled": true
   },
   "outputs": [
    {
     "data": {
      "text/html": [
       "<div>\n",
       "<style scoped>\n",
       "    .dataframe tbody tr th:only-of-type {\n",
       "        vertical-align: middle;\n",
       "    }\n",
       "\n",
       "    .dataframe tbody tr th {\n",
       "        vertical-align: top;\n",
       "    }\n",
       "\n",
       "    .dataframe thead th {\n",
       "        text-align: right;\n",
       "    }\n",
       "</style>\n",
       "<table border=\"1\" class=\"dataframe\">\n",
       "  <thead>\n",
       "    <tr style=\"text-align: right;\">\n",
       "      <th></th>\n",
       "      <th>age</th>\n",
       "      <th>sex</th>\n",
       "      <th>bmi</th>\n",
       "      <th>bp</th>\n",
       "      <th>s1</th>\n",
       "      <th>s2</th>\n",
       "      <th>s3</th>\n",
       "      <th>s4</th>\n",
       "      <th>s5</th>\n",
       "      <th>s6</th>\n",
       "      <th>target</th>\n",
       "    </tr>\n",
       "  </thead>\n",
       "  <tbody>\n",
       "    <tr>\n",
       "      <th>0</th>\n",
       "      <td>59.0</td>\n",
       "      <td>2.0</td>\n",
       "      <td>32.1</td>\n",
       "      <td>101.0</td>\n",
       "      <td>157.0</td>\n",
       "      <td>93.2</td>\n",
       "      <td>38.0</td>\n",
       "      <td>4.0</td>\n",
       "      <td>4.8598</td>\n",
       "      <td>87.0</td>\n",
       "      <td>151.0</td>\n",
       "    </tr>\n",
       "    <tr>\n",
       "      <th>1</th>\n",
       "      <td>48.0</td>\n",
       "      <td>1.0</td>\n",
       "      <td>21.6</td>\n",
       "      <td>87.0</td>\n",
       "      <td>183.0</td>\n",
       "      <td>103.2</td>\n",
       "      <td>70.0</td>\n",
       "      <td>3.0</td>\n",
       "      <td>3.8918</td>\n",
       "      <td>69.0</td>\n",
       "      <td>75.0</td>\n",
       "    </tr>\n",
       "    <tr>\n",
       "      <th>2</th>\n",
       "      <td>72.0</td>\n",
       "      <td>2.0</td>\n",
       "      <td>30.5</td>\n",
       "      <td>93.0</td>\n",
       "      <td>156.0</td>\n",
       "      <td>93.6</td>\n",
       "      <td>41.0</td>\n",
       "      <td>4.0</td>\n",
       "      <td>4.6728</td>\n",
       "      <td>85.0</td>\n",
       "      <td>141.0</td>\n",
       "    </tr>\n",
       "    <tr>\n",
       "      <th>3</th>\n",
       "      <td>24.0</td>\n",
       "      <td>1.0</td>\n",
       "      <td>25.3</td>\n",
       "      <td>84.0</td>\n",
       "      <td>198.0</td>\n",
       "      <td>131.4</td>\n",
       "      <td>40.0</td>\n",
       "      <td>5.0</td>\n",
       "      <td>4.8903</td>\n",
       "      <td>89.0</td>\n",
       "      <td>206.0</td>\n",
       "    </tr>\n",
       "    <tr>\n",
       "      <th>4</th>\n",
       "      <td>50.0</td>\n",
       "      <td>1.0</td>\n",
       "      <td>23.0</td>\n",
       "      <td>101.0</td>\n",
       "      <td>192.0</td>\n",
       "      <td>125.4</td>\n",
       "      <td>52.0</td>\n",
       "      <td>4.0</td>\n",
       "      <td>4.2905</td>\n",
       "      <td>80.0</td>\n",
       "      <td>135.0</td>\n",
       "    </tr>\n",
       "  </tbody>\n",
       "</table>\n",
       "</div>"
      ],
      "text/plain": [
       "    age  sex   bmi     bp     s1     s2    s3   s4      s5    s6  target\n",
       "0  59.0  2.0  32.1  101.0  157.0   93.2  38.0  4.0  4.8598  87.0   151.0\n",
       "1  48.0  1.0  21.6   87.0  183.0  103.2  70.0  3.0  3.8918  69.0    75.0\n",
       "2  72.0  2.0  30.5   93.0  156.0   93.6  41.0  4.0  4.6728  85.0   141.0\n",
       "3  24.0  1.0  25.3   84.0  198.0  131.4  40.0  5.0  4.8903  89.0   206.0\n",
       "4  50.0  1.0  23.0  101.0  192.0  125.4  52.0  4.0  4.2905  80.0   135.0"
      ]
     },
     "execution_count": 2,
     "metadata": {},
     "output_type": "execute_result"
    }
   ],
   "source": [
    "dataset = datasets.load_diabetes(as_frame=True, scaled=False)\n",
    "df = dataset.frame\n",
    "df.head()"
   ]
  },
  {
   "cell_type": "markdown",
   "id": "372ebd0f-f1d5-4b43-bb7a-8423943bfe6e",
   "metadata": {},
   "source": [
    "Let's create a boxplot to show the difference in the target by `sex`."
   ]
  },
  {
   "cell_type": "code",
   "execution_count": 3,
   "id": "7ce016ea-e7e8-4910-a10b-8edbb3d44d95",
   "metadata": {},
   "outputs": [
    {
     "data": {
      "text/plain": [
       "<Axes: title={'center': 'target'}, xlabel='sex'>"
      ]
     },
     "execution_count": 3,
     "metadata": {},
     "output_type": "execute_result"
    },
    {
     "data": {
      "image/png": "[encoded data removed]",
      "text/plain": [
       "<Figure size 640x480 with 1 Axes>"
      ]
     },
     "metadata": {},
     "output_type": "display_data"
    }
   ],
   "source": [
    "df.boxplot(column=\"target\", by=\"sex\")"
   ]
  },
  {
   "cell_type": "markdown",
   "id": "b9af2be9-bdb3-466d-a8fe-b3ade0cd57b8",
   "metadata": {},
   "source": [
    "Both boxes are very similar, however the box for sex `1` looks like it has slightly lower values (As seen by Q1 and Q3). "
   ]
  },
  {
   "cell_type": "markdown",
   "id": "1211f2c6-61cf-4342-aa21-f9e4b9875eaf",
   "metadata": {},
   "source": [
    "Out of curisoity, let's see some simple stats for each `sex` value."
   ]
  },
  {
   "cell_type": "code",
   "execution_count": 4,
   "id": "77a48ddf-2a26-42c6-82dd-d845f7d37c35",
   "metadata": {},
   "outputs": [
    {
     "data": {
      "text/html": [
       "<div>\n",
       "<style scoped>\n",
       "    .dataframe tbody tr th:only-of-type {\n",
       "        vertical-align: middle;\n",
       "    }\n",
       "\n",
       "    .dataframe tbody tr th {\n",
       "        vertical-align: top;\n",
       "    }\n",
       "\n",
       "    .dataframe thead th {\n",
       "        text-align: right;\n",
       "    }\n",
       "</style>\n",
       "<table border=\"1\" class=\"dataframe\">\n",
       "  <thead>\n",
       "    <tr style=\"text-align: right;\">\n",
       "      <th></th>\n",
       "      <th>count</th>\n",
       "      <th>mean</th>\n",
       "      <th>std</th>\n",
       "      <th>min</th>\n",
       "      <th>25%</th>\n",
       "      <th>50%</th>\n",
       "      <th>75%</th>\n",
       "      <th>max</th>\n",
       "    </tr>\n",
       "    <tr>\n",
       "      <th>sex</th>\n",
       "      <th></th>\n",
       "      <th></th>\n",
       "      <th></th>\n",
       "      <th></th>\n",
       "      <th></th>\n",
       "      <th></th>\n",
       "      <th></th>\n",
       "      <th></th>\n",
       "    </tr>\n",
       "  </thead>\n",
       "  <tbody>\n",
       "    <tr>\n",
       "      <th>1.0</th>\n",
       "      <td>235.0</td>\n",
       "      <td>149.021277</td>\n",
       "      <td>75.905781</td>\n",
       "      <td>25.0</td>\n",
       "      <td>85.5</td>\n",
       "      <td>140.0</td>\n",
       "      <td>200.0</td>\n",
       "      <td>346.0</td>\n",
       "    </tr>\n",
       "    <tr>\n",
       "      <th>2.0</th>\n",
       "      <td>207.0</td>\n",
       "      <td>155.666667</td>\n",
       "      <td>78.453313</td>\n",
       "      <td>39.0</td>\n",
       "      <td>88.0</td>\n",
       "      <td>141.0</td>\n",
       "      <td>220.5</td>\n",
       "      <td>341.0</td>\n",
       "    </tr>\n",
       "  </tbody>\n",
       "</table>\n",
       "</div>"
      ],
      "text/plain": [
       "     count        mean        std   min   25%    50%    75%    max\n",
       "sex                                                               \n",
       "1.0  235.0  149.021277  75.905781  25.0  85.5  140.0  200.0  346.0\n",
       "2.0  207.0  155.666667  78.453313  39.0  88.0  141.0  220.5  341.0"
      ]
     },
     "execution_count": 4,
     "metadata": {},
     "output_type": "execute_result"
    }
   ],
   "source": [
    "df.groupby(\"sex\")[\"target\"].describe()"
   ]
  },
  {
   "cell_type": "markdown",
   "id": "f5064c7c-bb67-4b31-a0b3-c84a0a9033a8",
   "metadata": {},
   "source": [
    "The table above does show that the mean for sex `1` is slightly lower than sex `0`. This raises, the question, is this difference statistically significant?"
   ]
  },
  {
   "cell_type": "markdown",
   "id": "09ecec71-998d-4d83-a89a-ca8f32b62109",
   "metadata": {},
   "source": [
    "We now have two groups, in which we want to check that the mean in one is **strictly lower** than the mean in the other. This is a perfect scenario for using a **one tailed t-test** to verify this. We can formulate the above problem thus:\n",
    "\n",
    "**Hypotheses**\n",
    "- Null N0: µ1 >= µ2 (Group 1 has the same or higher average `target` value)\n",
    "- Alternative Na: µ1 < µ2 (Group 1 has a lower average `target` value)\n",
    "\n",
    "We shall use an alpha value of 0.05 to determine significance, as it represents a 5% risk of concluding that a difference exists when there is none (Type I error). This is a commonly accepted threshold in hypothesis testing"
   ]
  },
  {
   "cell_type": "code",
   "execution_count": 9,
   "id": "a0ee6a99-656e-4031-8b4a-b46348efcd09",
   "metadata": {},
   "outputs": [],
   "source": [
    "alpha = 0.05"
   ]
  },
  {
   "cell_type": "markdown",
   "id": "285adff5-fbad-4ff6-bbd3-1367de3de50d",
   "metadata": {},
   "source": [
    "Create the groups for each `sex` value."
   ]
  },
  {
   "cell_type": "code",
   "execution_count": 5,
   "id": "aab42a87-27de-4193-af61-d7fcebc42c02",
   "metadata": {},
   "outputs": [],
   "source": [
    "group_1 = df[df[\"sex\"] == 1][\"target\"]\n",
    "group_2 = df[df[\"sex\"] == 2][\"target\"]"
   ]
  },
  {
   "cell_type": "markdown",
   "id": "7b0f7523-b136-4211-9925-6a4c882a570e",
   "metadata": {},
   "source": [
    "Use `scipy` to perform a two-tailed t-test. Scipy's `ttest_ind` returns two values:\n",
    "1. `t-statistic`: How far the sample means are, relative to the variability in the data (larger = more significance)\n",
    "2. `pvalue`: Probability in oberserving a difference at least as large as the one seen in the data"
   ]
  },
  {
   "cell_type": "code",
   "execution_count": 6,
   "id": "04248808-09f9-4dcf-9b10-b78954063e2a",
   "metadata": {},
   "outputs": [],
   "source": [
    "t_stat, p_two_tailed = ttest_ind(group_2, group_1, equal_var=False)"
   ]
  },
  {
   "cell_type": "markdown",
   "id": "84b503c0-e8a1-4170-b8b3-0ea38b638716",
   "metadata": {},
   "source": [
    "As we want to perform a one-tailed t-test, we need to divide the `p` value by two."
   ]
  },
  {
   "cell_type": "code",
   "execution_count": 7,
   "id": "3138ecf7-c668-4b45-a321-f9fdb53e12db",
   "metadata": {},
   "outputs": [],
   "source": [
    "p_one_tailed = p_two_tailed / 2"
   ]
  },
  {
   "cell_type": "markdown",
   "id": "78ed7ecb-d11e-44b7-b7c7-237ccba00b46",
   "metadata": {},
   "source": [
    "We can now examine the results:"
   ]
  },
  {
   "cell_type": "code",
   "execution_count": 8,
   "id": "b857ca1a-44ea-4ec0-a07e-b89e8b75a9f5",
   "metadata": {},
   "outputs": [
    {
     "name": "stdout",
     "output_type": "stream",
     "text": [
      "t-statistic: 0.9022\n",
      "One-tailed p-value: 0.1837\n"
     ]
    }
   ],
   "source": [
    "print(f\"t-statistic: {t_stat:.4f}\")\n",
    "print(f\"One-tailed p-value: {p_one_tailed:.4f}\")"
   ]
  },
  {
   "cell_type": "markdown",
   "id": "2617ffa1-57d4-4c28-84c6-7ae243f58ae7",
   "metadata": {},
   "source": [
    "Considering the above results:\n",
    "- A *t-statistic* value of 0.9022 suggests that the groups means are less than 1 standard error apart. This is not strong evidence that there is a difference.\n",
    "- A *p-value* of 0.1837 is larger than our alpha of 0.05\n",
    "\n",
    "In conclusion, based off of the above one-tailed t-test we **fail** to reject the **null** hypothesis as there is insignificant evidence to conclude that a sex of `1` results in a lower `target` value than a sex of `2`."
   ]
  }
 ],
 "metadata": {
  "kernelspec": {
   "display_name": "Python 3 (ipykernel)",
   "language": "python",
   "name": "python3"
  },
  "language_info": {
   "codemirror_mode": {
    "name": "ipython",
    "version": 3
   },
   "file_extension": ".py",
   "mimetype": "text/x-python",
   "name": "python",
   "nbconvert_exporter": "python",
   "pygments_lexer": "ipython3",
   "version": "3.13.0"
  }
 },
 "nbformat": 4,
 "nbformat_minor": 5
}
