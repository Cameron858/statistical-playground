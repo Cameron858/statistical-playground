{
 "cells": [
  {
   "cell_type": "code",
   "execution_count": 1,
   "id": "5c8aeb28-0c03-425f-9c5c-67d0c07665fd",
   "metadata": {},
   "outputs": [],
   "source": [
    "import numpy as np\n",
    "from scipy.stats import chi2_contingency, chi2, chisquare\n",
    "from pyprojroot import here\n",
    "import pandas as pd\n",
    "import seaborn as sns\n",
    "import matplotlib.pyplot as plt"
   ]
  },
  {
   "cell_type": "markdown",
   "id": "df024c9b-ced4-45b3-ab42-0d451d9f275b",
   "metadata": {},
   "source": [
    "# Chi-squared testing\n",
    "\n",
    "This notebook demonstrates the following variations of the Chi-squared test:\n",
    "1. Chi-squared test of independence\n",
    "    - Whether two categorical variables are independent\n",
    "2. Chi-squared goodness-of-fit test\n",
    "    - Whether the distribution of a single categorical variable matches an expected distribution\n",
    "3. Chi-squared test of Homogeneity\n",
    "    - Whether two or more independent groups share the same distribution of a categorical variable\n"
   ]
  },
  {
   "cell_type": "markdown",
   "id": "66636182-71e2-446d-b414-1b4283bd702b",
   "metadata": {},
   "source": [
    "## Introduction\n",
    "\n",
    "This section provides a general introduction to Chi-squared testing. For any specifics of the Chi-squared variants, see the individual sections:\n",
    "- [**Test of Independence**](#Test-of-Independence)\n",
    "- [**Goodness-of-fit Test**](#Goodness-of-fit-Test)\n",
    "- [**Test of Homogeniety**](#Test-of-Homogeneity)"
   ]
  },
  {
   "cell_type": "markdown",
   "id": "8ac8f196-05a0-4d80-a5d0-520f66c46acd",
   "metadata": {},
   "source": [
    "## Requirements\n",
    "\n",
    "This notebook uses the `Heart Failure Prediction Dataset` which can be found [here](https://www.kaggle.com/datasets/fedesoriano/heart-failure-prediction) (08/06/2025). The dataset should be downloaded and placed into the `data` directory at the project root."
   ]
  },
  {
   "cell_type": "code",
   "execution_count": 2,
   "id": "e1958f3c-2ecf-4ed2-a9d8-bd1d3b1bd6e7",
   "metadata": {},
   "outputs": [
    {
     "data": {
      "text/html": [
       "<div>\n",
       "<style scoped>\n",
       "    .dataframe tbody tr th:only-of-type {\n",
       "        vertical-align: middle;\n",
       "    }\n",
       "\n",
       "    .dataframe tbody tr th {\n",
       "        vertical-align: top;\n",
       "    }\n",
       "\n",
       "    .dataframe thead th {\n",
       "        text-align: right;\n",
       "    }\n",
       "</style>\n",
       "<table border=\"1\" class=\"dataframe\">\n",
       "  <thead>\n",
       "    <tr style=\"text-align: right;\">\n",
       "      <th></th>\n",
       "      <th>Age</th>\n",
       "      <th>Sex</th>\n",
       "      <th>ChestPainType</th>\n",
       "      <th>RestingBP</th>\n",
       "      <th>Cholesterol</th>\n",
       "      <th>FastingBS</th>\n",
       "      <th>RestingECG</th>\n",
       "      <th>MaxHR</th>\n",
       "      <th>ExerciseAngina</th>\n",
       "      <th>Oldpeak</th>\n",
       "      <th>ST_Slope</th>\n",
       "      <th>HeartDisease</th>\n",
       "    </tr>\n",
       "  </thead>\n",
       "  <tbody>\n",
       "    <tr>\n",
       "      <th>0</th>\n",
       "      <td>40</td>\n",
       "      <td>M</td>\n",
       "      <td>ATA</td>\n",
       "      <td>140</td>\n",
       "      <td>289</td>\n",
       "      <td>0</td>\n",
       "      <td>Normal</td>\n",
       "      <td>172</td>\n",
       "      <td>N</td>\n",
       "      <td>0.0</td>\n",
       "      <td>Up</td>\n",
       "      <td>0</td>\n",
       "    </tr>\n",
       "    <tr>\n",
       "      <th>1</th>\n",
       "      <td>49</td>\n",
       "      <td>F</td>\n",
       "      <td>NAP</td>\n",
       "      <td>160</td>\n",
       "      <td>180</td>\n",
       "      <td>0</td>\n",
       "      <td>Normal</td>\n",
       "      <td>156</td>\n",
       "      <td>N</td>\n",
       "      <td>1.0</td>\n",
       "      <td>Flat</td>\n",
       "      <td>1</td>\n",
       "    </tr>\n",
       "    <tr>\n",
       "      <th>2</th>\n",
       "      <td>37</td>\n",
       "      <td>M</td>\n",
       "      <td>ATA</td>\n",
       "      <td>130</td>\n",
       "      <td>283</td>\n",
       "      <td>0</td>\n",
       "      <td>ST</td>\n",
       "      <td>98</td>\n",
       "      <td>N</td>\n",
       "      <td>0.0</td>\n",
       "      <td>Up</td>\n",
       "      <td>0</td>\n",
       "    </tr>\n",
       "    <tr>\n",
       "      <th>3</th>\n",
       "      <td>48</td>\n",
       "      <td>F</td>\n",
       "      <td>ASY</td>\n",
       "      <td>138</td>\n",
       "      <td>214</td>\n",
       "      <td>0</td>\n",
       "      <td>Normal</td>\n",
       "      <td>108</td>\n",
       "      <td>Y</td>\n",
       "      <td>1.5</td>\n",
       "      <td>Flat</td>\n",
       "      <td>1</td>\n",
       "    </tr>\n",
       "    <tr>\n",
       "      <th>4</th>\n",
       "      <td>54</td>\n",
       "      <td>M</td>\n",
       "      <td>NAP</td>\n",
       "      <td>150</td>\n",
       "      <td>195</td>\n",
       "      <td>0</td>\n",
       "      <td>Normal</td>\n",
       "      <td>122</td>\n",
       "      <td>N</td>\n",
       "      <td>0.0</td>\n",
       "      <td>Up</td>\n",
       "      <td>0</td>\n",
       "    </tr>\n",
       "  </tbody>\n",
       "</table>\n",
       "</div>"
      ],
      "text/plain": [
       "   Age Sex ChestPainType  RestingBP  Cholesterol  FastingBS RestingECG  MaxHR  \\\n",
       "0   40   M           ATA        140          289          0     Normal    172   \n",
       "1   49   F           NAP        160          180          0     Normal    156   \n",
       "2   37   M           ATA        130          283          0         ST     98   \n",
       "3   48   F           ASY        138          214          0     Normal    108   \n",
       "4   54   M           NAP        150          195          0     Normal    122   \n",
       "\n",
       "  ExerciseAngina  Oldpeak ST_Slope  HeartDisease  \n",
       "0              N      0.0       Up             0  \n",
       "1              N      1.0     Flat             1  \n",
       "2              N      0.0       Up             0  \n",
       "3              Y      1.5     Flat             1  \n",
       "4              N      0.0       Up             0  "
      ]
     },
     "execution_count": 2,
     "metadata": {},
     "output_type": "execute_result"
    }
   ],
   "source": [
    "df_original = pd.read_csv(here(\"data/heart.csv\"))\n",
    "df_original.head()"
   ]
  },
  {
   "cell_type": "markdown",
   "id": "71e47a96-582f-42d0-a138-6d3f92dc0605",
   "metadata": {},
   "source": [
    "## Test of Independence\n",
    "\n",
    "For this example, we will test if the *biological sex (M/F)* of an individual affects heart disease. We can formulate the above as such:\n",
    "\n",
    "**Hypotheses**\n",
    "\n",
    "$ Let\\ X\\ = biological\\ sex,\\ Y = heart\\ failure $ \n",
    "- $ H_0: P(Y | X) = P(Y) $ (Y depends on X)\n",
    "- $ H_a: P(Y | X) \\neq P(Y)$ (Y is independent of X)\n",
    "\n",
    "We shall use an alpha value of 0.05 to determine significance.\n",
    "\n",
    "$$ alpha = 0.05 $$"
   ]
  },
  {
   "cell_type": "markdown",
   "id": "02747c52-a9c5-4422-a74f-8fb0dfc58010",
   "metadata": {},
   "source": [
    "To ease demonstration let's filter the original data for only the columns needed for this example."
   ]
  },
  {
   "cell_type": "code",
   "execution_count": 3,
   "id": "3341e43f-87fc-48e0-8014-10bb651ed3aa",
   "metadata": {},
   "outputs": [
    {
     "data": {
      "text/html": [
       "<div>\n",
       "<style scoped>\n",
       "    .dataframe tbody tr th:only-of-type {\n",
       "        vertical-align: middle;\n",
       "    }\n",
       "\n",
       "    .dataframe tbody tr th {\n",
       "        vertical-align: top;\n",
       "    }\n",
       "\n",
       "    .dataframe thead th {\n",
       "        text-align: right;\n",
       "    }\n",
       "</style>\n",
       "<table border=\"1\" class=\"dataframe\">\n",
       "  <thead>\n",
       "    <tr style=\"text-align: right;\">\n",
       "      <th></th>\n",
       "      <th>Sex</th>\n",
       "      <th>HeartDisease</th>\n",
       "    </tr>\n",
       "  </thead>\n",
       "  <tbody>\n",
       "    <tr>\n",
       "      <th>0</th>\n",
       "      <td>M</td>\n",
       "      <td>0</td>\n",
       "    </tr>\n",
       "    <tr>\n",
       "      <th>1</th>\n",
       "      <td>F</td>\n",
       "      <td>1</td>\n",
       "    </tr>\n",
       "    <tr>\n",
       "      <th>2</th>\n",
       "      <td>M</td>\n",
       "      <td>0</td>\n",
       "    </tr>\n",
       "    <tr>\n",
       "      <th>3</th>\n",
       "      <td>F</td>\n",
       "      <td>1</td>\n",
       "    </tr>\n",
       "    <tr>\n",
       "      <th>4</th>\n",
       "      <td>M</td>\n",
       "      <td>0</td>\n",
       "    </tr>\n",
       "  </tbody>\n",
       "</table>\n",
       "</div>"
      ],
      "text/plain": [
       "  Sex  HeartDisease\n",
       "0   M             0\n",
       "1   F             1\n",
       "2   M             0\n",
       "3   F             1\n",
       "4   M             0"
      ]
     },
     "execution_count": 3,
     "metadata": {},
     "output_type": "execute_result"
    }
   ],
   "source": [
    "df_independence = df_original[[\"Sex\", \"HeartDisease\"]]\n",
    "df_independence.head()"
   ]
  },
  {
   "cell_type": "markdown",
   "id": "e8fa368f-f5fd-45fd-8f9f-a644af66ab23",
   "metadata": {},
   "source": [
    "The chi-squared test requires a contingency table. This can easily be done using `pandas'` `crosstab()` function."
   ]
  },
  {
   "cell_type": "code",
   "execution_count": 4,
   "id": "5d0a5c17-87ca-427f-9869-55df1980fee6",
   "metadata": {},
   "outputs": [
    {
     "data": {
      "text/html": [
       "<div>\n",
       "<style scoped>\n",
       "    .dataframe tbody tr th:only-of-type {\n",
       "        vertical-align: middle;\n",
       "    }\n",
       "\n",
       "    .dataframe tbody tr th {\n",
       "        vertical-align: top;\n",
       "    }\n",
       "\n",
       "    .dataframe thead th {\n",
       "        text-align: right;\n",
       "    }\n",
       "</style>\n",
       "<table border=\"1\" class=\"dataframe\">\n",
       "  <thead>\n",
       "    <tr style=\"text-align: right;\">\n",
       "      <th>HeartDisease</th>\n",
       "      <th>0</th>\n",
       "      <th>1</th>\n",
       "    </tr>\n",
       "    <tr>\n",
       "      <th>Sex</th>\n",
       "      <th></th>\n",
       "      <th></th>\n",
       "    </tr>\n",
       "  </thead>\n",
       "  <tbody>\n",
       "    <tr>\n",
       "      <th>F</th>\n",
       "      <td>143</td>\n",
       "      <td>50</td>\n",
       "    </tr>\n",
       "    <tr>\n",
       "      <th>M</th>\n",
       "      <td>267</td>\n",
       "      <td>458</td>\n",
       "    </tr>\n",
       "  </tbody>\n",
       "</table>\n",
       "</div>"
      ],
      "text/plain": [
       "HeartDisease    0    1\n",
       "Sex                   \n",
       "F             143   50\n",
       "M             267  458"
      ]
     },
     "execution_count": 4,
     "metadata": {},
     "output_type": "execute_result"
    }
   ],
   "source": [
    "contingency = pd.crosstab(df_independence[\"Sex\"], df_independence[\"HeartDisease\"])\n",
    "contingency"
   ]
  },
  {
   "cell_type": "markdown",
   "id": "df50ba23-cd48-4321-95dc-12192bc25deb",
   "metadata": {},
   "source": [
    "Perform the test using `scipy's` `chi2_contingency` function."
   ]
  },
  {
   "cell_type": "code",
   "execution_count": 5,
   "id": "36bcca17-badd-44d0-b3e9-e74e526f3a49",
   "metadata": {},
   "outputs": [
    {
     "name": "stdout",
     "output_type": "stream",
     "text": [
      "chi2 statistic: 84.1451\n",
      "p-value: 0.0000\n"
     ]
    }
   ],
   "source": [
    "chi2_stat, p_chi, df, expected = chi2_contingency(contingency)\n",
    "\n",
    "print(f\"chi2 statistic: {chi2_stat:.4f}\")\n",
    "print(f\"p-value: {p_chi:.4f}\")"
   ]
  },
  {
   "cell_type": "markdown",
   "id": "efdad19c-8a95-4c1d-a146-98d1efc0b058",
   "metadata": {},
   "source": [
    "Observations:\n",
    "- A Chi-squared test statistic of 84.15 indicates that the observed differences between heart failure rates in males and females are large relative to what would be expected if the two variables were independent. This suggests a potential association between biological sex and heart failure outcome.\n",
    "- A p-value < 0.001 is much smaller than our alpha of 0.05\n",
    "\n",
    "In conclusion, based off of the above results, we reject the null hypothesis of independence and conclude that there is strong statistical evidence of an association between biological sex and heart failure."
   ]
  },
  {
   "cell_type": "markdown",
   "id": "e9c3cb39-589b-44c0-ac02-c291ba2732b0",
   "metadata": {},
   "source": [
    "We can plot our statistic visually against the chi-squared distribution."
   ]
  },
  {
   "cell_type": "code",
   "execution_count": 6,
   "id": "40466ddc-9b4e-4ecb-aa0d-0213c7498017",
   "metadata": {},
   "outputs": [
    {
     "data": {
      "image/png": "[encoded data removed]",
      "text/plain": [
       "<Figure size 800x500 with 1 Axes>"
      ]
     },
     "metadata": {},
     "output_type": "display_data"
    }
   ],
   "source": [
    "# Parameters\n",
    "alpha = 0.05\n",
    "\n",
    "# Define x range ±1% around statistic\n",
    "# chi2 distribution is non-negative\n",
    "x_min = max(0, chi2_stat * 0.99)\n",
    "x_max = chi2_stat * 1.01\n",
    "x = np.linspace(x_min, x_max, 500)\n",
    "y = chi2.pdf(x, df)\n",
    "\n",
    "plt.figure(figsize=(8, 5))\n",
    "plt.plot(x, y, label=f'$Chi^2$ distribution (df={df:.0f})')\n",
    "\n",
    "# shade rejection region\n",
    "plt.fill_between(x, 0, y, color='red', alpha=0.3, label='Rejection region')\n",
    "\n",
    "# mark statistic\n",
    "plt.axvline(chi2_stat, color='black', linestyle='--', label=f'Observed $Chi^2$-statistic = {chi2_stat:.2f}')\n",
    "\n",
    "plt.title('$Chi^2$ Test of Independence\\ndistribution and rejection regions')\n",
    "plt.xlabel('$Chi^2$ value')\n",
    "plt.ylabel('Probability Density')\n",
    "plt.legend(loc=\"upper right\")\n",
    "plt.grid(True)\n",
    "plt.show()"
   ]
  },
  {
   "cell_type": "markdown",
   "id": "3acc8f6a-d289-4816-8d38-cb7651081644",
   "metadata": {},
   "source": [
    "We can examine what a contingency table *would* look like if there was *no* observed association between biological sex and heart failure. "
   ]
  },
  {
   "cell_type": "code",
   "execution_count": 7,
   "id": "21990404-3474-438c-8fcb-f4faef36b89f",
   "metadata": {},
   "outputs": [
    {
     "data": {
      "text/html": [
       "<div>\n",
       "<style scoped>\n",
       "    .dataframe tbody tr th:only-of-type {\n",
       "        vertical-align: middle;\n",
       "    }\n",
       "\n",
       "    .dataframe tbody tr th {\n",
       "        vertical-align: top;\n",
       "    }\n",
       "\n",
       "    .dataframe thead th {\n",
       "        text-align: right;\n",
       "    }\n",
       "</style>\n",
       "<table border=\"1\" class=\"dataframe\">\n",
       "  <thead>\n",
       "    <tr style=\"text-align: right;\">\n",
       "      <th>HeartDisease</th>\n",
       "      <th>0</th>\n",
       "      <th>1</th>\n",
       "    </tr>\n",
       "    <tr>\n",
       "      <th>Sex</th>\n",
       "      <th></th>\n",
       "      <th></th>\n",
       "    </tr>\n",
       "  </thead>\n",
       "  <tbody>\n",
       "    <tr>\n",
       "      <th>F</th>\n",
       "      <td>86.198257</td>\n",
       "      <td>106.801743</td>\n",
       "    </tr>\n",
       "    <tr>\n",
       "      <th>M</th>\n",
       "      <td>323.801743</td>\n",
       "      <td>401.198257</td>\n",
       "    </tr>\n",
       "  </tbody>\n",
       "</table>\n",
       "</div>"
      ],
      "text/plain": [
       "HeartDisease           0           1\n",
       "Sex                                 \n",
       "F              86.198257  106.801743\n",
       "M             323.801743  401.198257"
      ]
     },
     "execution_count": 7,
     "metadata": {},
     "output_type": "execute_result"
    }
   ],
   "source": [
    "expected_contingency = pd.DataFrame(expected, index=contingency.index, columns=contingency.columns)\n",
    "expected_contingency"
   ]
  },
  {
   "cell_type": "markdown",
   "id": "fbce05d8-58c3-4499-9fe7-98c62130b356",
   "metadata": {},
   "source": [
    "From this, let's calculate the standardised residuals (by expected) to see where the largest deviations occur."
   ]
  },
  {
   "cell_type": "code",
   "execution_count": 8,
   "id": "d1029c7f-7ab7-4ce0-82be-5fca9d11ef0c",
   "metadata": {},
   "outputs": [
    {
     "data": {
      "text/html": [
       "<div>\n",
       "<style scoped>\n",
       "    .dataframe tbody tr th:only-of-type {\n",
       "        vertical-align: middle;\n",
       "    }\n",
       "\n",
       "    .dataframe tbody tr th {\n",
       "        vertical-align: top;\n",
       "    }\n",
       "\n",
       "    .dataframe thead th {\n",
       "        text-align: right;\n",
       "    }\n",
       "</style>\n",
       "<table border=\"1\" class=\"dataframe\">\n",
       "  <thead>\n",
       "    <tr style=\"text-align: right;\">\n",
       "      <th>HeartDisease</th>\n",
       "      <th>0</th>\n",
       "      <th>1</th>\n",
       "    </tr>\n",
       "    <tr>\n",
       "      <th>Sex</th>\n",
       "      <th></th>\n",
       "      <th></th>\n",
       "    </tr>\n",
       "  </thead>\n",
       "  <tbody>\n",
       "    <tr>\n",
       "      <th>F</th>\n",
       "      <td>6.118042</td>\n",
       "      <td>-5.496326</td>\n",
       "    </tr>\n",
       "    <tr>\n",
       "      <th>M</th>\n",
       "      <td>-3.156618</td>\n",
       "      <td>2.835843</td>\n",
       "    </tr>\n",
       "  </tbody>\n",
       "</table>\n",
       "</div>"
      ],
      "text/plain": [
       "HeartDisease         0         1\n",
       "Sex                             \n",
       "F             6.118042 -5.496326\n",
       "M            -3.156618  2.835843"
      ]
     },
     "execution_count": 8,
     "metadata": {},
     "output_type": "execute_result"
    }
   ],
   "source": [
    "residuals = (contingency - expected_contingency) / expected_contingency.pow(0.5) \n",
    "residuals"
   ]
  },
  {
   "cell_type": "code",
   "execution_count": 9,
   "id": "0a5b7794-8859-402b-9d86-93efa63d2d72",
   "metadata": {
    "scrolled": true
   },
   "outputs": [
    {
     "data": {
      "text/plain": [
       "<Axes: xlabel='HeartDisease', ylabel='Sex'>"
      ]
     },
     "execution_count": 9,
     "metadata": {},
     "output_type": "execute_result"
    },
    {
     "data": {
      "image/png": "[encoded data removed]",
      "text/plain": [
       "<Figure size 640x480 with 2 Axes>"
      ]
     },
     "metadata": {},
     "output_type": "display_data"
    }
   ],
   "source": [
    "sns.heatmap(residuals, annot=True, cmap=\"coolwarm\", center=0)"
   ]
  },
  {
   "cell_type": "markdown",
   "id": "a81dd8e5-8430-4f81-bb4a-117ac5c5affc",
   "metadata": {},
   "source": [
    "Standardised residuals observations:\n",
    "- Females: Far more without heart disease (+6.1) than expected, and far less with heart disease than expected (-5.5), assuming independence\n",
    "- Males: Fewer men without heart disease than expected (-3.2), and more men with heart disease than expected (2.8), again, assuming independence\n",
    "\n",
    "It is important to note the contrasting pattern across the diagonals of the residuals matrix:\n",
    "- The top-left -> bottom-right diagonal (females without heart disease and males with heart disease) shows more occurrences than expected under the assumption of independence.\n",
    "- The bottom-left -> top-right diagonal (females with heart disease and males without heart disease) shows fewer occurrences than expected.\n",
    "\n",
    "This diagonal pattern supports the conclusion that males are more likely to have heart disease than females in this dataset, indicating a significant association between biological sex and heart disease occurrence in this data."
   ]
  },
  {
   "cell_type": "markdown",
   "id": "fe83c7d6-c04f-4f8c-b1a9-1a8e1867c185",
   "metadata": {},
   "source": [
    "## Goodness-of-fit Test\n",
    "\n",
    "For this example, we will examine if the dataset is balanced in terms of *biological sex (M/F)*. This can be formulated as such:\n",
    "\n",
    "**Hypotheses**\n",
    "- $ H_0: $ The observed frequencies of biological sex **follow a uniform distribution**, that is there is an equal split of males (M) and females (F)\n",
    "- $ H_a: $ The observed frequencies of biological sex **do not follow a uniform distribution**, the proportions of males and female are not equal.\n",
    "\n",
    "Again, we shall use an alpha value of 0.05 to determine significance.\n",
    "\n",
    "$$ alpha = 0.05 $$"
   ]
  },
  {
   "cell_type": "markdown",
   "id": "c1785863-bc55-4d6e-9478-9f4f7425e129",
   "metadata": {},
   "source": [
    "Again, let's let's filter the original data for only the columns needed for this example."
   ]
  },
  {
   "cell_type": "code",
   "execution_count": 10,
   "id": "284caddf-c11c-4e59-98dd-9ad6c62ee819",
   "metadata": {},
   "outputs": [
    {
     "data": {
      "text/html": [
       "<div>\n",
       "<style scoped>\n",
       "    .dataframe tbody tr th:only-of-type {\n",
       "        vertical-align: middle;\n",
       "    }\n",
       "\n",
       "    .dataframe tbody tr th {\n",
       "        vertical-align: top;\n",
       "    }\n",
       "\n",
       "    .dataframe thead th {\n",
       "        text-align: right;\n",
       "    }\n",
       "</style>\n",
       "<table border=\"1\" class=\"dataframe\">\n",
       "  <thead>\n",
       "    <tr style=\"text-align: right;\">\n",
       "      <th></th>\n",
       "      <th>Sex</th>\n",
       "    </tr>\n",
       "  </thead>\n",
       "  <tbody>\n",
       "    <tr>\n",
       "      <th>0</th>\n",
       "      <td>M</td>\n",
       "    </tr>\n",
       "    <tr>\n",
       "      <th>1</th>\n",
       "      <td>F</td>\n",
       "    </tr>\n",
       "    <tr>\n",
       "      <th>2</th>\n",
       "      <td>M</td>\n",
       "    </tr>\n",
       "    <tr>\n",
       "      <th>3</th>\n",
       "      <td>F</td>\n",
       "    </tr>\n",
       "    <tr>\n",
       "      <th>4</th>\n",
       "      <td>M</td>\n",
       "    </tr>\n",
       "  </tbody>\n",
       "</table>\n",
       "</div>"
      ],
      "text/plain": [
       "  Sex\n",
       "0   M\n",
       "1   F\n",
       "2   M\n",
       "3   F\n",
       "4   M"
      ]
     },
     "execution_count": 10,
     "metadata": {},
     "output_type": "execute_result"
    }
   ],
   "source": [
    "df_fit = df_original[[\"Sex\"]]\n",
    "df_fit.head()"
   ]
  },
  {
   "cell_type": "markdown",
   "id": "4cfd70d0-22b8-401d-a117-0ad600c0b5b3",
   "metadata": {},
   "source": [
    "Let's first examine the proportion of males (M) to females (F) via a pie chart."
   ]
  },
  {
   "cell_type": "code",
   "execution_count": 11,
   "id": "20940aa7-52c3-4a13-97db-4d4374ac5997",
   "metadata": {},
   "outputs": [
    {
     "data": {
      "text/plain": [
       "<Axes: ylabel='count'>"
      ]
     },
     "execution_count": 11,
     "metadata": {},
     "output_type": "execute_result"
    },
    {
     "data": {
      "image/png": "[encoded data removed]",
      "text/plain": [
       "<Figure size 640x480 with 1 Axes>"
      ]
     },
     "metadata": {},
     "output_type": "display_data"
    }
   ],
   "source": [
    "df_fit.value_counts().plot(kind=\"pie\", autopct='%1.1f%%')"
   ]
  },
  {
   "cell_type": "markdown",
   "id": "458a7dbc-5f97-48cc-9528-64baa73bb654",
   "metadata": {},
   "source": [
    "Although the imbalance between males and females is visually clear (79% males vs. 21% females), performing a chi-squared goodness-of-fit test formally confirms this."
   ]
  },
  {
   "cell_type": "code",
   "execution_count": 12,
   "id": "49f66b15-2fb5-4e4d-bacb-cbbcb3306413",
   "metadata": {},
   "outputs": [
    {
     "name": "stdout",
     "output_type": "stream",
     "text": [
      "chi2 statistic: 308.3050\n",
      "p-value: 0.0000\n"
     ]
    }
   ],
   "source": [
    "observed = df_fit.value_counts().to_numpy()\n",
    "expected_dist = np.array([0.5, 0.5])\n",
    "expected = expected_dist * observed.sum()\n",
    "\n",
    "chi2_stat, p_chi = chisquare(f_obs=observed, f_exp=expected)\n",
    "\n",
    "print(f\"chi2 statistic: {chi2_stat:.4f}\")\n",
    "print(f\"p-value: {p_chi:.4f}\")"
   ]
  },
  {
   "cell_type": "markdown",
   "id": "8145e0a4-67c7-44a8-8c72-2c231e09c758",
   "metadata": {},
   "source": [
    "Observations:\n",
    "- A Chi-squared test statistic of 308.3050 indicates a large difference between the observed and expected frequencies of biological sex in the dataset, assuming equal proportions.\n",
    "- A p-value < 0.001 is much smaller than our alpha of 0.05\n",
    "\n",
    "In conclusion, based off of the above results, we reject the null hypothesis and conclude that the distribution of biological sex within the dataset **does not** follow a uniform distribution."
   ]
  },
  {
   "cell_type": "markdown",
   "id": "1f265c2d-e350-4550-b2c0-636c299c18f1",
   "metadata": {},
   "source": [
    "### Further Intuition\n",
    "\n",
    "To satisfy my curitosity, let's now plot the $Chi^2$ statistic and p-value as the ratio of males / females approaches 1, i.e. as the data approaches a uniform distribution."
   ]
  },
  {
   "cell_type": "code",
   "execution_count": 13,
   "id": "78ef2724-353a-476c-9a28-97e68f118d45",
   "metadata": {},
   "outputs": [
    {
     "data": {
      "image/png": "[encoded data removed]",
      "text/plain": [
       "<Figure size 1000x600 with 2 Axes>"
      ]
     },
     "metadata": {},
     "output_type": "display_data"
    }
   ],
   "source": [
    "n = 1000\n",
    "\n",
    "proportions = list(range(1, n))\n",
    "proportions = proportions[:int(n / 2)]\n",
    "\n",
    "chi_values = []\n",
    "p_values = []\n",
    "ratio_mf = []\n",
    "\n",
    "expected = [0.5 * n, 0.5 * n]\n",
    "for n_males in proportions:\n",
    "    n_females = n - n_males\n",
    "    observed = [n_males, n_females]\n",
    "    ratio_mf.append(n_males / n_females)\n",
    "\n",
    "    stat, p = chisquare(f_obs=observed, f_exp=expected)\n",
    "\n",
    "    chi_values.append(stat)\n",
    "    p_values.append(p)\n",
    "\n",
    "# plotting\n",
    "fig, ax1 = plt.subplots(figsize=(10, 6))\n",
    "\n",
    "chi_colour = \"#0072B2\"\n",
    "p_colour = \"#E69F00\"\n",
    "\n",
    "# chi statistic\n",
    "ax1.plot(ratio_mf, chi_values, color=chi_colour, label='$Chi^2$ Statistic')\n",
    "ax1.set_xlabel('Ratio male / female')\n",
    "ax1.set_ylabel('$Chi^2$ Statistic', color=chi_colour)\n",
    "ax1.tick_params(axis='y', labelcolor=chi_colour)\n",
    "\n",
    "# p-values\n",
    "ax2 = ax1.twinx()\n",
    "ax2.plot(ratio_mf, p_values, color=p_colour, label='p-value')\n",
    "ax2.set_ylabel('p-value', color=p_colour)\n",
    "ax2.tick_params(axis='y', labelcolor=p_colour)\n",
    "\n",
    "# reference lines\n",
    "ax2.axhline(0.05, color=p_colour, linestyle='--', linewidth=1, label='alpha=0.05')\n",
    "ax1.axvline(1, color=chi_colour, linestyle='--', label='Equal (0.5)')\n",
    "\n",
    "# combine legends\n",
    "lines1, labels1 = ax1.get_legend_handles_labels()\n",
    "lines2, labels2 = ax2.get_legend_handles_labels()\n",
    "ax1.legend(lines1 + lines2, labels1 + labels2, bbox_to_anchor=(1.05, 1))\n",
    "\n",
    "plt.title('$Chi^2$ statistic and p-value vs Sex Proportion')\n",
    "# plt.grid(True)\n",
    "plt.tight_layout()\n",
    "plt.show()\n"
   ]
  },
  {
   "cell_type": "markdown",
   "id": "3214f354-9d43-4baa-96bd-9a6385c099ce",
   "metadata": {},
   "source": [
    "As expected, we observe that as the observed distribution approaches the expected uniform distribution:\n",
    "- The chi-squared statistic approaches 0\n",
    "- The p-value approaches 1"
   ]
  },
  {
   "cell_type": "markdown",
   "id": "6a0e27cf-d993-4cea-a83f-8bd833444bf2",
   "metadata": {},
   "source": [
    "## Test of Homogeneity"
   ]
  },
  {
   "cell_type": "markdown",
   "id": "2d8f9b9d-3548-4c76-bfbe-3195c7dc8196",
   "metadata": {},
   "source": [
    "For this example, we will test if males and females with heart disease experiance different types of chest pain at similar rates. This can be formulated a such:\n",
    "\n",
    "**Hypotheses**\n",
    "- $ H_0: $ The distribution of chest pain types is the same for males and females with heart disease.\n",
    "- $ H_a: $ The distribution of chest pain types is different for males and females with heart disease.\n",
    "\n",
    "Again, we shall use an alpha value of 0.05 to determine significance.\n",
    "\n",
    "$$ alpha = 0.05 $$"
   ]
  },
  {
   "cell_type": "markdown",
   "id": "a0b393e1-9714-44ae-8b99-39afab0c6a39",
   "metadata": {},
   "source": [
    "Again, let's let's filter the original data for only the columns needed for this example."
   ]
  },
  {
   "cell_type": "code",
   "execution_count": 14,
   "id": "e411d8b6-a301-4bed-8445-5428a8c72e34",
   "metadata": {},
   "outputs": [
    {
     "data": {
      "text/html": [
       "<div>\n",
       "<style scoped>\n",
       "    .dataframe tbody tr th:only-of-type {\n",
       "        vertical-align: middle;\n",
       "    }\n",
       "\n",
       "    .dataframe tbody tr th {\n",
       "        vertical-align: top;\n",
       "    }\n",
       "\n",
       "    .dataframe thead th {\n",
       "        text-align: right;\n",
       "    }\n",
       "</style>\n",
       "<table border=\"1\" class=\"dataframe\">\n",
       "  <thead>\n",
       "    <tr style=\"text-align: right;\">\n",
       "      <th></th>\n",
       "      <th>Sex</th>\n",
       "      <th>ChestPainType</th>\n",
       "      <th>HeartDisease</th>\n",
       "    </tr>\n",
       "  </thead>\n",
       "  <tbody>\n",
       "    <tr>\n",
       "      <th>0</th>\n",
       "      <td>M</td>\n",
       "      <td>ATA</td>\n",
       "      <td>0</td>\n",
       "    </tr>\n",
       "    <tr>\n",
       "      <th>1</th>\n",
       "      <td>F</td>\n",
       "      <td>NAP</td>\n",
       "      <td>1</td>\n",
       "    </tr>\n",
       "    <tr>\n",
       "      <th>2</th>\n",
       "      <td>M</td>\n",
       "      <td>ATA</td>\n",
       "      <td>0</td>\n",
       "    </tr>\n",
       "    <tr>\n",
       "      <th>3</th>\n",
       "      <td>F</td>\n",
       "      <td>ASY</td>\n",
       "      <td>1</td>\n",
       "    </tr>\n",
       "    <tr>\n",
       "      <th>4</th>\n",
       "      <td>M</td>\n",
       "      <td>NAP</td>\n",
       "      <td>0</td>\n",
       "    </tr>\n",
       "  </tbody>\n",
       "</table>\n",
       "</div>"
      ],
      "text/plain": [
       "  Sex ChestPainType  HeartDisease\n",
       "0   M           ATA             0\n",
       "1   F           NAP             1\n",
       "2   M           ATA             0\n",
       "3   F           ASY             1\n",
       "4   M           NAP             0"
      ]
     },
     "execution_count": 14,
     "metadata": {},
     "output_type": "execute_result"
    }
   ],
   "source": [
    "df_homogeneity = df_original[[\"Sex\", \"ChestPainType\", \"HeartDisease\"]]\n",
    "df_homogeneity.head()"
   ]
  },
  {
   "cell_type": "markdown",
   "id": "0a63192d-fdd1-4c91-b69b-c49e8e09eacf",
   "metadata": {},
   "source": [
    "Much like we did with the previous example, let's first plot the distributions of `ChestPainType` for heart disease patients."
   ]
  },
  {
   "cell_type": "code",
   "execution_count": 15,
   "id": "c36e83c0-3558-4bd8-9834-64dfb873de77",
   "metadata": {},
   "outputs": [],
   "source": [
    "# filter for only heart disease\n",
    "df_homogeneity = df_homogeneity[df_homogeneity[\"HeartDisease\"] == 1]\n",
    "\n",
    "# count the heart pain types amongst the groups\n",
    "counts = df_homogeneity.groupby([\"Sex\"]).value_counts().to_frame()\n",
    "counts = counts.reset_index()\n",
    "\n",
    "# normalise by sum of sex\n",
    "sex_totals = counts.groupby(\"Sex\")[\"count\"].transform(\"sum\")\n",
    "counts[\"Proportion\"] = counts[\"count\"] / sex_totals"
   ]
  },
  {
   "cell_type": "code",
   "execution_count": 16,
   "id": "e098c8f1-a4c7-45a8-ab49-06a3957c4816",
   "metadata": {},
   "outputs": [
    {
     "data": {
      "text/plain": [
       "Text(0.5, 1.0, 'Chest Pain Type Distribution by Sex in Heart Disease Patients')"
      ]
     },
     "execution_count": 16,
     "metadata": {},
     "output_type": "execute_result"
    },
    {
     "data": {
      "image/png": "[encoded data removed]",
      "text/plain": [
       "<Figure size 611.736x500 with 1 Axes>"
      ]
     },
     "metadata": {},
     "output_type": "display_data"
    }
   ],
   "source": [
    "sns.catplot(counts, kind=\"bar\", x=\"Sex\", y=\"Proportion\", hue=\"ChestPainType\")\n",
    "plt.title(\"Chest Pain Type Distribution by Sex in Heart Disease Patients\")"
   ]
  },
  {
   "cell_type": "markdown",
   "id": "ae524a05-bc12-4cf6-84b4-c81d4fe743bb",
   "metadata": {},
   "source": [
    "Observations:\n",
    "- `ASY` is the most common chest pain type among individuals with heart disease.\n",
    "- The distributions of `ASY` and `NAP` are relatively similar between males and females.\n",
    "- Among males, `ATA` and `TA` occur at nearly equal proportions, whereas among females, `ATA` is notably more frequent than `TA`.\n",
    "\n",
    "While this visual inspection suggests a difference in chest pain distributions between males and females with heart disease, a Chi-squared test of homogeneity can formally assess whether these differences are statistically significant."
   ]
  },
  {
   "cell_type": "code",
   "execution_count": 17,
   "id": "40e7a886-7d28-4fbf-9e9c-f1841e3b81e9",
   "metadata": {},
   "outputs": [
    {
     "data": {
      "text/html": [
       "<div>\n",
       "<style scoped>\n",
       "    .dataframe tbody tr th:only-of-type {\n",
       "        vertical-align: middle;\n",
       "    }\n",
       "\n",
       "    .dataframe tbody tr th {\n",
       "        vertical-align: top;\n",
       "    }\n",
       "\n",
       "    .dataframe thead th {\n",
       "        text-align: right;\n",
       "    }\n",
       "</style>\n",
       "<table border=\"1\" class=\"dataframe\">\n",
       "  <thead>\n",
       "    <tr style=\"text-align: right;\">\n",
       "      <th>ChestPainType</th>\n",
       "      <th>ASY</th>\n",
       "      <th>ATA</th>\n",
       "      <th>NAP</th>\n",
       "      <th>TA</th>\n",
       "    </tr>\n",
       "    <tr>\n",
       "      <th>Sex</th>\n",
       "      <th></th>\n",
       "      <th></th>\n",
       "      <th></th>\n",
       "      <th></th>\n",
       "    </tr>\n",
       "  </thead>\n",
       "  <tbody>\n",
       "    <tr>\n",
       "      <th>F</th>\n",
       "      <td>39</td>\n",
       "      <td>4</td>\n",
       "      <td>6</td>\n",
       "      <td>1</td>\n",
       "    </tr>\n",
       "    <tr>\n",
       "      <th>M</th>\n",
       "      <td>353</td>\n",
       "      <td>20</td>\n",
       "      <td>66</td>\n",
       "      <td>19</td>\n",
       "    </tr>\n",
       "  </tbody>\n",
       "</table>\n",
       "</div>"
      ],
      "text/plain": [
       "ChestPainType  ASY  ATA  NAP  TA\n",
       "Sex                             \n",
       "F               39    4    6   1\n",
       "M              353   20   66  19"
      ]
     },
     "execution_count": 17,
     "metadata": {},
     "output_type": "execute_result"
    }
   ],
   "source": [
    "contingency = pd.crosstab(df_homogeneity[\"Sex\"], df_homogeneity[\"ChestPainType\"])\n",
    "contingency"
   ]
  },
  {
   "cell_type": "code",
   "execution_count": 18,
   "id": "33da00dc-6960-4f26-b265-b376609b8e7f",
   "metadata": {},
   "outputs": [
    {
     "name": "stdout",
     "output_type": "stream",
     "text": [
      "chi2 statistic: 1.9778\n",
      "p-value: 0.5770\n"
     ]
    }
   ],
   "source": [
    "chi2_stat, p_chi, df, expected = chi2_contingency(contingency)\n",
    "\n",
    "print(f\"chi2 statistic: {chi2_stat:.4f}\")\n",
    "print(f\"p-value: {p_chi:.4f}\")"
   ]
  },
  {
   "cell_type": "markdown",
   "id": "7e348c0c-8aba-47ae-be55-9dfeae28f5a3",
   "metadata": {},
   "source": [
    "Observations:\n",
    "- A Chi-squared test statistic of 1.9778 indicates a small difference between the distributions of chest pain types between \n",
    "- A p-value of 0.5770 is much larger than our alpha of 0.05\n",
    "\n",
    "In conclusion, based off of the above results, we fail to reject the null hypothesis as there is insufficient evidence to conclude that chest pain types distributions differ between males and females."
   ]
  },
  {
   "cell_type": "markdown",
   "id": "eda11d36-c1dc-4e47-baa8-e6507d0bcb9f",
   "metadata": {},
   "source": [
    "Again, like we have done in other examples, let's plot the $ Chi^2 $ distribution, along with our calculated statistic."
   ]
  },
  {
   "cell_type": "code",
   "execution_count": 19,
   "id": "a6689656-2871-496e-a6c8-60b8a3f1e589",
   "metadata": {},
   "outputs": [
    {
     "data": {
      "image/png": "[encoded data removed]",
      "text/plain": [
       "<Figure size 800x500 with 1 Axes>"
      ]
     },
     "metadata": {},
     "output_type": "display_data"
    }
   ],
   "source": [
    "# Parameters\n",
    "alpha = 0.05\n",
    "\n",
    "# chi2 distribution is non-negative\n",
    "x = np.linspace(0, 5, 500)\n",
    "y = chi2.pdf(x, df)\n",
    "\n",
    "chi2_crit = chi2.pdf(alpha, df)\n",
    "\n",
    "plt.figure(figsize=(8, 5))\n",
    "plt.plot(x, y, label=f'$Chi^2$ distribution (df={df:.0f})')\n",
    "\n",
    "# shade rejection region\n",
    "x_fill = np.linspace(0, chi2_crit, 500)\n",
    "plt.fill_between(x_fill, 0, chi2.pdf(x_fill, df), color='red', alpha=0.3, label='Rejection region')\n",
    "\n",
    "# mark statistic\n",
    "plt.axvline(chi2_stat, color='black', linestyle='--', label=f'Observed $Chi^2$-statistic = {chi2_stat:.2f}')\n",
    "\n",
    "plt.title('$Chi^2$ Test of Homogeneity\\ndistribution and rejection regions')\n",
    "plt.xlabel('$Chi^2$ value')\n",
    "plt.ylabel('Probability Density')\n",
    "plt.legend(loc=\"upper right\")\n",
    "plt.grid(True)\n",
    "plt.show()"
   ]
  }
 ],
 "metadata": {
  "kernelspec": {
   "display_name": "Python 3 (ipykernel)",
   "language": "python",
   "name": "python3"
  },
  "language_info": {
   "codemirror_mode": {
    "name": "ipython",
    "version": 3
   },
   "file_extension": ".py",
   "mimetype": "text/x-python",
   "name": "python",
   "nbconvert_exporter": "python",
   "pygments_lexer": "ipython3",
   "version": "3.13.0"
  }
 },
 "nbformat": 4,
 "nbformat_minor": 5
}
