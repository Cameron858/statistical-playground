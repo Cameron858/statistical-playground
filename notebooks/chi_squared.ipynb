{
 "cells": [
  {
   "cell_type": "code",
   "execution_count": 1,
   "id": "5c8aeb28-0c03-425f-9c5c-67d0c07665fd",
   "metadata": {},
   "outputs": [],
   "source": [
    "import numpy as np\n",
    "from scipy.stats import chi2_contingency, chi2\n",
    "from pyprojroot import here\n",
    "import pandas as pd\n",
    "import seaborn as sns\n",
    "import matplotlib.pyplot as plt"
   ]
  },
  {
   "cell_type": "markdown",
   "id": "df024c9b-ced4-45b3-ab42-0d451d9f275b",
   "metadata": {},
   "source": [
    "# Chi-squared testing\n",
    "## Independence and Goodness-of-fit\n",
    "\n",
    "This notebook demonstrates the two variations of the Chi-squared test:\n",
    "1. Chi-squared test of independence\n",
    "    - Whether two categorical variables are independent\n",
    "3. Chi-squared goodness-of-fit test\n",
    "    - Whether the distribution of a single categorical variable matches an expected distribution\n"
   ]
  },
  {
   "cell_type": "markdown",
   "id": "66636182-71e2-446d-b414-1b4283bd702b",
   "metadata": {},
   "source": [
    "## Introduction\n",
    "\n",
    "This section provides a general introduction to Chi-squared testing. For any specifics of the Chi-squared varients, see the individual sections [**Test of Independence**](#Test-of-Independence) or [**Goodness-of-fit Test**](#Goodness-of-fit-Test)."
   ]
  },
  {
   "cell_type": "markdown",
   "id": "8ac8f196-05a0-4d80-a5d0-520f66c46acd",
   "metadata": {},
   "source": [
    "## Requirements\n",
    "\n",
    "This notebook uses the `Heart Failure Prediction Dataset` which can be found [here](https://www.kaggle.com/datasets/fedesoriano/heart-failure-prediction) (08/06/2025). The dataset should be downloaded and placed into the `data` directory at the project root."
   ]
  },
  {
   "cell_type": "code",
   "execution_count": 2,
   "id": "e1958f3c-2ecf-4ed2-a9d8-bd1d3b1bd6e7",
   "metadata": {},
   "outputs": [
    {
     "data": {
      "text/html": [
       "<div>\n",
       "<style scoped>\n",
       "    .dataframe tbody tr th:only-of-type {\n",
       "        vertical-align: middle;\n",
       "    }\n",
       "\n",
       "    .dataframe tbody tr th {\n",
       "        vertical-align: top;\n",
       "    }\n",
       "\n",
       "    .dataframe thead th {\n",
       "        text-align: right;\n",
       "    }\n",
       "</style>\n",
       "<table border=\"1\" class=\"dataframe\">\n",
       "  <thead>\n",
       "    <tr style=\"text-align: right;\">\n",
       "      <th></th>\n",
       "      <th>Age</th>\n",
       "      <th>Sex</th>\n",
       "      <th>ChestPainType</th>\n",
       "      <th>RestingBP</th>\n",
       "      <th>Cholesterol</th>\n",
       "      <th>FastingBS</th>\n",
       "      <th>RestingECG</th>\n",
       "      <th>MaxHR</th>\n",
       "      <th>ExerciseAngina</th>\n",
       "      <th>Oldpeak</th>\n",
       "      <th>ST_Slope</th>\n",
       "      <th>HeartDisease</th>\n",
       "    </tr>\n",
       "  </thead>\n",
       "  <tbody>\n",
       "    <tr>\n",
       "      <th>0</th>\n",
       "      <td>40</td>\n",
       "      <td>M</td>\n",
       "      <td>ATA</td>\n",
       "      <td>140</td>\n",
       "      <td>289</td>\n",
       "      <td>0</td>\n",
       "      <td>Normal</td>\n",
       "      <td>172</td>\n",
       "      <td>N</td>\n",
       "      <td>0.0</td>\n",
       "      <td>Up</td>\n",
       "      <td>0</td>\n",
       "    </tr>\n",
       "    <tr>\n",
       "      <th>1</th>\n",
       "      <td>49</td>\n",
       "      <td>F</td>\n",
       "      <td>NAP</td>\n",
       "      <td>160</td>\n",
       "      <td>180</td>\n",
       "      <td>0</td>\n",
       "      <td>Normal</td>\n",
       "      <td>156</td>\n",
       "      <td>N</td>\n",
       "      <td>1.0</td>\n",
       "      <td>Flat</td>\n",
       "      <td>1</td>\n",
       "    </tr>\n",
       "    <tr>\n",
       "      <th>2</th>\n",
       "      <td>37</td>\n",
       "      <td>M</td>\n",
       "      <td>ATA</td>\n",
       "      <td>130</td>\n",
       "      <td>283</td>\n",
       "      <td>0</td>\n",
       "      <td>ST</td>\n",
       "      <td>98</td>\n",
       "      <td>N</td>\n",
       "      <td>0.0</td>\n",
       "      <td>Up</td>\n",
       "      <td>0</td>\n",
       "    </tr>\n",
       "    <tr>\n",
       "      <th>3</th>\n",
       "      <td>48</td>\n",
       "      <td>F</td>\n",
       "      <td>ASY</td>\n",
       "      <td>138</td>\n",
       "      <td>214</td>\n",
       "      <td>0</td>\n",
       "      <td>Normal</td>\n",
       "      <td>108</td>\n",
       "      <td>Y</td>\n",
       "      <td>1.5</td>\n",
       "      <td>Flat</td>\n",
       "      <td>1</td>\n",
       "    </tr>\n",
       "    <tr>\n",
       "      <th>4</th>\n",
       "      <td>54</td>\n",
       "      <td>M</td>\n",
       "      <td>NAP</td>\n",
       "      <td>150</td>\n",
       "      <td>195</td>\n",
       "      <td>0</td>\n",
       "      <td>Normal</td>\n",
       "      <td>122</td>\n",
       "      <td>N</td>\n",
       "      <td>0.0</td>\n",
       "      <td>Up</td>\n",
       "      <td>0</td>\n",
       "    </tr>\n",
       "  </tbody>\n",
       "</table>\n",
       "</div>"
      ],
      "text/plain": [
       "   Age Sex ChestPainType  RestingBP  Cholesterol  FastingBS RestingECG  MaxHR  \\\n",
       "0   40   M           ATA        140          289          0     Normal    172   \n",
       "1   49   F           NAP        160          180          0     Normal    156   \n",
       "2   37   M           ATA        130          283          0         ST     98   \n",
       "3   48   F           ASY        138          214          0     Normal    108   \n",
       "4   54   M           NAP        150          195          0     Normal    122   \n",
       "\n",
       "  ExerciseAngina  Oldpeak ST_Slope  HeartDisease  \n",
       "0              N      0.0       Up             0  \n",
       "1              N      1.0     Flat             1  \n",
       "2              N      0.0       Up             0  \n",
       "3              Y      1.5     Flat             1  \n",
       "4              N      0.0       Up             0  "
      ]
     },
     "execution_count": 2,
     "metadata": {},
     "output_type": "execute_result"
    }
   ],
   "source": [
    "df = pd.read_csv(here(\"data/heart.csv\"))\n",
    "df.head()"
   ]
  },
  {
   "cell_type": "markdown",
   "id": "71e47a96-582f-42d0-a138-6d3f92dc0605",
   "metadata": {},
   "source": [
    "## Test of Independence\n",
    "\n",
    "For this example, we will test if the *biological sex (M/F)* of an individual affects heart disease. We can formulate the above as such:\n",
    "\n",
    "**Hypotheses**\n",
    "\n",
    "$ Let\\ X\\ = biological\\ sex,\\ Y = heart\\ failure $ \n",
    "- $ H_0: P(Y | X) = P(Y) $ (Y depends on X)\n",
    "- $ H_a: P(Y | X) \\neq P(Y)$ (Y is independent of X)\n",
    "\n",
    "We shall use an alpha value of 0.05 to determine significance.\n",
    "\n",
    "$$ alpha = 0.05 $$"
   ]
  },
  {
   "cell_type": "markdown",
   "id": "02747c52-a9c5-4422-a74f-8fb0dfc58010",
   "metadata": {},
   "source": [
    "To ease demonstration let's filter the original data for only the columns needed for this example."
   ]
  },
  {
   "cell_type": "code",
   "execution_count": 3,
   "id": "3341e43f-87fc-48e0-8014-10bb651ed3aa",
   "metadata": {},
   "outputs": [
    {
     "data": {
      "text/html": [
       "<div>\n",
       "<style scoped>\n",
       "    .dataframe tbody tr th:only-of-type {\n",
       "        vertical-align: middle;\n",
       "    }\n",
       "\n",
       "    .dataframe tbody tr th {\n",
       "        vertical-align: top;\n",
       "    }\n",
       "\n",
       "    .dataframe thead th {\n",
       "        text-align: right;\n",
       "    }\n",
       "</style>\n",
       "<table border=\"1\" class=\"dataframe\">\n",
       "  <thead>\n",
       "    <tr style=\"text-align: right;\">\n",
       "      <th></th>\n",
       "      <th>Sex</th>\n",
       "      <th>HeartDisease</th>\n",
       "    </tr>\n",
       "  </thead>\n",
       "  <tbody>\n",
       "    <tr>\n",
       "      <th>0</th>\n",
       "      <td>M</td>\n",
       "      <td>0</td>\n",
       "    </tr>\n",
       "    <tr>\n",
       "      <th>1</th>\n",
       "      <td>F</td>\n",
       "      <td>1</td>\n",
       "    </tr>\n",
       "    <tr>\n",
       "      <th>2</th>\n",
       "      <td>M</td>\n",
       "      <td>0</td>\n",
       "    </tr>\n",
       "    <tr>\n",
       "      <th>3</th>\n",
       "      <td>F</td>\n",
       "      <td>1</td>\n",
       "    </tr>\n",
       "    <tr>\n",
       "      <th>4</th>\n",
       "      <td>M</td>\n",
       "      <td>0</td>\n",
       "    </tr>\n",
       "  </tbody>\n",
       "</table>\n",
       "</div>"
      ],
      "text/plain": [
       "  Sex  HeartDisease\n",
       "0   M             0\n",
       "1   F             1\n",
       "2   M             0\n",
       "3   F             1\n",
       "4   M             0"
      ]
     },
     "execution_count": 3,
     "metadata": {},
     "output_type": "execute_result"
    }
   ],
   "source": [
    "df_independence = df[[\"Sex\", \"HeartDisease\"]]\n",
    "df_independence.head()"
   ]
  },
  {
   "cell_type": "markdown",
   "id": "e8fa368f-f5fd-45fd-8f9f-a644af66ab23",
   "metadata": {},
   "source": [
    "The chi-squared test requires a contingency table. This can easily be done using `pandas'` `crosstab()` function."
   ]
  },
  {
   "cell_type": "code",
   "execution_count": 4,
   "id": "5d0a5c17-87ca-427f-9869-55df1980fee6",
   "metadata": {},
   "outputs": [
    {
     "data": {
      "text/html": [
       "<div>\n",
       "<style scoped>\n",
       "    .dataframe tbody tr th:only-of-type {\n",
       "        vertical-align: middle;\n",
       "    }\n",
       "\n",
       "    .dataframe tbody tr th {\n",
       "        vertical-align: top;\n",
       "    }\n",
       "\n",
       "    .dataframe thead th {\n",
       "        text-align: right;\n",
       "    }\n",
       "</style>\n",
       "<table border=\"1\" class=\"dataframe\">\n",
       "  <thead>\n",
       "    <tr style=\"text-align: right;\">\n",
       "      <th>HeartDisease</th>\n",
       "      <th>0</th>\n",
       "      <th>1</th>\n",
       "    </tr>\n",
       "    <tr>\n",
       "      <th>Sex</th>\n",
       "      <th></th>\n",
       "      <th></th>\n",
       "    </tr>\n",
       "  </thead>\n",
       "  <tbody>\n",
       "    <tr>\n",
       "      <th>F</th>\n",
       "      <td>143</td>\n",
       "      <td>50</td>\n",
       "    </tr>\n",
       "    <tr>\n",
       "      <th>M</th>\n",
       "      <td>267</td>\n",
       "      <td>458</td>\n",
       "    </tr>\n",
       "  </tbody>\n",
       "</table>\n",
       "</div>"
      ],
      "text/plain": [
       "HeartDisease    0    1\n",
       "Sex                   \n",
       "F             143   50\n",
       "M             267  458"
      ]
     },
     "execution_count": 4,
     "metadata": {},
     "output_type": "execute_result"
    }
   ],
   "source": [
    "contingency = pd.crosstab(df[\"Sex\"], df[\"HeartDisease\"])\n",
    "contingency"
   ]
  },
  {
   "cell_type": "markdown",
   "id": "df50ba23-cd48-4321-95dc-12192bc25deb",
   "metadata": {},
   "source": [
    "Perform the test using `scipy's` `chi2_contingency` function."
   ]
  },
  {
   "cell_type": "code",
   "execution_count": 5,
   "id": "36bcca17-badd-44d0-b3e9-e74e526f3a49",
   "metadata": {},
   "outputs": [
    {
     "name": "stdout",
     "output_type": "stream",
     "text": [
      "chi2 statistic: 84.1451\n",
      "p-value: 0.0000\n"
     ]
    }
   ],
   "source": [
    "chi2_stat, p_chi, df, expected = chi2_contingency(contingency)\n",
    "\n",
    "print(f\"chi2 statistic: {chi2_stat:.4f}\")\n",
    "print(f\"p-value: {p_chi:.4f}\")"
   ]
  },
  {
   "cell_type": "markdown",
   "id": "efdad19c-8a95-4c1d-a146-98d1efc0b058",
   "metadata": {},
   "source": [
    "Observations:\n",
    "- A Chi-squared test statistic of 84.15 indicates that the observed differences between heart failure rates in males and females are large relative to what would be expected if the two variables were independent. This suggests a potential association between biological sex and heart failure outcome.\n",
    "- A p-value < 0.001 is much smaller than our alpha of 0.05\n",
    "\n",
    "In conclusion, based off of the above results, we reject the null hypothesis of independence and conclude that there is strong statistical evidence of an association between biological sex and heart failure."
   ]
  },
  {
   "cell_type": "markdown",
   "id": "e9c3cb39-589b-44c0-ac02-c291ba2732b0",
   "metadata": {},
   "source": [
    "We can plot our statistic visually against the chi-squared distribution."
   ]
  },
  {
   "cell_type": "code",
   "execution_count": 20,
   "id": "40466ddc-9b4e-4ecb-aa0d-0213c7498017",
   "metadata": {},
   "outputs": [
    {
     "data": {
      "image/png": "[encoded data removed]",
      "text/plain": [
       "<Figure size 800x500 with 1 Axes>"
      ]
     },
     "metadata": {},
     "output_type": "display_data"
    }
   ],
   "source": [
    "# Parameters\n",
    "alpha = 0.05\n",
    "\n",
    "# Define x range ±1% around statistic\n",
    "# chi2 distribution is non-negative\n",
    "x_min = max(0, chi2_stat * 0.99)\n",
    "x_max = chi2_stat * 1.01\n",
    "x = np.linspace(x_min, x_max, 500)\n",
    "y = chi2.pdf(x, df)\n",
    "\n",
    "plt.figure(figsize=(8, 5))\n",
    "plt.plot(x, y, label=f'$Chi^2$ distribution (df={df:.0f})')\n",
    "\n",
    "# shade rejection region\n",
    "plt.fill_between(x, 0, y, color='red', alpha=0.3, label='Rejection region')\n",
    "\n",
    "# mark statistic\n",
    "plt.axvline(chi2_stat, color='black', linestyle='--', label=f'Observed $Chi^2$-statistic = {chi2_stat:.2f}')\n",
    "\n",
    "plt.title('$Chi^2$ Test of Independence\\ndistribution and rejection regions')\n",
    "plt.xlabel('$Chi^2$ value')\n",
    "plt.ylabel('Probability Density')\n",
    "plt.legend(loc=\"upper right\")\n",
    "plt.grid(True)\n",
    "plt.show()"
   ]
  },
  {
   "cell_type": "markdown",
   "id": "3acc8f6a-d289-4816-8d38-cb7651081644",
   "metadata": {},
   "source": [
    "We can examine what a contingency table *would* look like if there was *no* observed association between biological sex and heart failure. "
   ]
  },
  {
   "cell_type": "code",
   "execution_count": 7,
   "id": "21990404-3474-438c-8fcb-f4faef36b89f",
   "metadata": {},
   "outputs": [
    {
     "data": {
      "text/html": [
       "<div>\n",
       "<style scoped>\n",
       "    .dataframe tbody tr th:only-of-type {\n",
       "        vertical-align: middle;\n",
       "    }\n",
       "\n",
       "    .dataframe tbody tr th {\n",
       "        vertical-align: top;\n",
       "    }\n",
       "\n",
       "    .dataframe thead th {\n",
       "        text-align: right;\n",
       "    }\n",
       "</style>\n",
       "<table border=\"1\" class=\"dataframe\">\n",
       "  <thead>\n",
       "    <tr style=\"text-align: right;\">\n",
       "      <th>HeartDisease</th>\n",
       "      <th>0</th>\n",
       "      <th>1</th>\n",
       "    </tr>\n",
       "    <tr>\n",
       "      <th>Sex</th>\n",
       "      <th></th>\n",
       "      <th></th>\n",
       "    </tr>\n",
       "  </thead>\n",
       "  <tbody>\n",
       "    <tr>\n",
       "      <th>F</th>\n",
       "      <td>86.198257</td>\n",
       "      <td>106.801743</td>\n",
       "    </tr>\n",
       "    <tr>\n",
       "      <th>M</th>\n",
       "      <td>323.801743</td>\n",
       "      <td>401.198257</td>\n",
       "    </tr>\n",
       "  </tbody>\n",
       "</table>\n",
       "</div>"
      ],
      "text/plain": [
       "HeartDisease           0           1\n",
       "Sex                                 \n",
       "F              86.198257  106.801743\n",
       "M             323.801743  401.198257"
      ]
     },
     "execution_count": 7,
     "metadata": {},
     "output_type": "execute_result"
    }
   ],
   "source": [
    "expected_contingency = pd.DataFrame(expected, index=contingency.index, columns=contingency.columns)\n",
    "expected_contingency"
   ]
  },
  {
   "cell_type": "markdown",
   "id": "fbce05d8-58c3-4499-9fe7-98c62130b356",
   "metadata": {},
   "source": [
    "From this, let's calculate the standardised residuals (by expected) to see where the largest deviations occur."
   ]
  },
  {
   "cell_type": "code",
   "execution_count": 8,
   "id": "d1029c7f-7ab7-4ce0-82be-5fca9d11ef0c",
   "metadata": {},
   "outputs": [
    {
     "data": {
      "text/html": [
       "<div>\n",
       "<style scoped>\n",
       "    .dataframe tbody tr th:only-of-type {\n",
       "        vertical-align: middle;\n",
       "    }\n",
       "\n",
       "    .dataframe tbody tr th {\n",
       "        vertical-align: top;\n",
       "    }\n",
       "\n",
       "    .dataframe thead th {\n",
       "        text-align: right;\n",
       "    }\n",
       "</style>\n",
       "<table border=\"1\" class=\"dataframe\">\n",
       "  <thead>\n",
       "    <tr style=\"text-align: right;\">\n",
       "      <th>HeartDisease</th>\n",
       "      <th>0</th>\n",
       "      <th>1</th>\n",
       "    </tr>\n",
       "    <tr>\n",
       "      <th>Sex</th>\n",
       "      <th></th>\n",
       "      <th></th>\n",
       "    </tr>\n",
       "  </thead>\n",
       "  <tbody>\n",
       "    <tr>\n",
       "      <th>F</th>\n",
       "      <td>6.118042</td>\n",
       "      <td>-5.496326</td>\n",
       "    </tr>\n",
       "    <tr>\n",
       "      <th>M</th>\n",
       "      <td>-3.156618</td>\n",
       "      <td>2.835843</td>\n",
       "    </tr>\n",
       "  </tbody>\n",
       "</table>\n",
       "</div>"
      ],
      "text/plain": [
       "HeartDisease         0         1\n",
       "Sex                             \n",
       "F             6.118042 -5.496326\n",
       "M            -3.156618  2.835843"
      ]
     },
     "execution_count": 8,
     "metadata": {},
     "output_type": "execute_result"
    }
   ],
   "source": [
    "residuals = (contingency - expected_contingency) / expected_contingency.pow(0.5) \n",
    "residuals"
   ]
  },
  {
   "cell_type": "code",
   "execution_count": 9,
   "id": "0a5b7794-8859-402b-9d86-93efa63d2d72",
   "metadata": {
    "scrolled": true
   },
   "outputs": [
    {
     "data": {
      "text/plain": [
       "<Axes: xlabel='HeartDisease', ylabel='Sex'>"
      ]
     },
     "execution_count": 9,
     "metadata": {},
     "output_type": "execute_result"
    },
    {
     "data": {
      "image/png": "[encoded data removed]",
      "text/plain": [
       "<Figure size 640x480 with 2 Axes>"
      ]
     },
     "metadata": {},
     "output_type": "display_data"
    }
   ],
   "source": [
    "sns.heatmap(residuals, annot=True, cmap=\"coolwarm\", center=0)"
   ]
  },
  {
   "cell_type": "markdown",
   "id": "a81dd8e5-8430-4f81-bb4a-117ac5c5affc",
   "metadata": {},
   "source": [
    "Standardised residuals observations:\n",
    "- Females: Far more without heart disease (+6.1) than expected, and far less with heart disease than expected (-5.5), assuming independence\n",
    "- Males: Fewer men without heart disease than expected (-3.2), and more men with heart disease than expected (2.8), again, assuming independence\n",
    "\n",
    "It is important to note the contrasting pattern across the diagonals of the residuals matrix:\n",
    "- The top-left -> bottom-right diagonal (females without heart disease and males with heart disease) shows more occurrences than expected under the assumption of independence.\n",
    "- The bottom-left -> top-right diagonal (females with heart disease and males without heart disease) shows fewer occurrences than expected.\n",
    "\n",
    "This diagonal pattern supports the conclusion that males are more likely to have heart disease than females in this dataset, indicating a significant association between biological sex and heart disease occurrence in this data."
   ]
  },
  {
   "cell_type": "markdown",
   "id": "fe83c7d6-c04f-4f8c-b1a9-1a8e1867c185",
   "metadata": {},
   "source": [
    "## Goodness-of-fit Test\n",
    "\n",
    "For this example, we will examine if the dataset is balances in terms of *biological sex (M/F)*"
   ]
  }
 ],
 "metadata": {
  "kernelspec": {
   "display_name": "Python 3 (ipykernel)",
   "language": "python",
   "name": "python3"
  },
  "language_info": {
   "codemirror_mode": {
    "name": "ipython",
    "version": 3
   },
   "file_extension": ".py",
   "mimetype": "text/x-python",
   "name": "python",
   "nbconvert_exporter": "python",
   "pygments_lexer": "ipython3",
   "version": "3.13.0"
  }
 },
 "nbformat": 4,
 "nbformat_minor": 5
}
